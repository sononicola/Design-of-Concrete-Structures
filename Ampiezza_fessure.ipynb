{
 "cells": [
  {
   "cell_type": "code",
   "execution_count": 1,
   "metadata": {},
   "outputs": [],
   "source": [
    "from handcalcs import render\n",
    "import forallpeople\n",
    "forallpeople.environment(\"structural\", top_level=True)\n",
    "\n",
    "from reinforced_concrete.sections import create_concrete_material, create_steel_material, Bars, ReinforcedConcreteSection, InternalForces, Stirrups\n",
    "from reinforced_concrete.sls import sls"
   ]
  },
  {
   "cell_type": "markdown",
   "metadata": {},
   "source": [
    "### Quasi permanente"
   ]
  },
  {
   "cell_type": "code",
   "execution_count": null,
   "metadata": {},
   "outputs": [
    {
     "data": {
      "text/plain": [
       "{'x': 157.50801020071052,\n",
       " 'sigma_c': 6.575929515967569,\n",
       " 'sigma_s': 189.43474698811877,\n",
       " 'sigma_s1': 73.58905667624114,\n",
       " '<sigma_cR': True,\n",
       " '<sigma_sR': True,\n",
       " '<sigma_sR1': True}"
      ]
     },
     "execution_count": 2,
     "metadata": {},
     "output_type": "execute_result"
    }
   ],
   "source": [
    "cls  = create_concrete_material(\"EC2\",\"C25/30\") \n",
    "steel  = create_steel_material(\"NTC18\",\"B450C\")\n",
    "\n",
    "sec = ReinforcedConcreteSection(\n",
    "    b=300, \n",
    "    d=460, \n",
    "    d1=40, \n",
    "    d2=40, \n",
    "    concrete_material=cls, \n",
    "    As=Bars(n_bars=4, diameter=18, steel_material=steel), \n",
    "    As1=Bars(n_bars=2, diameter=18, steel_material=steel), \n",
    "    stirrups=Stirrups(n_braces=2, diameter=8, spacing=220, alpha=90),\n",
    "    internal_forces=InternalForces(M=79.04*10**6, N=0.), \n",
    "    name=\"C5_QP\"\n",
    "    )\n",
    "cls.is_sls_qp = True   \n",
    "\n",
    "res_sec = sls(section=sec)[0]\n",
    "res_sec"
   ]
  },
  {
   "cell_type": "code",
   "execution_count": null,
   "metadata": {},
   "outputs": [
    {
     "data": {
      "text/latex": [
       "\\[\n",
       "\\begin{aligned}\n",
       "E_{s} &= 210000.00\\ \\text{MPa} \\; \n",
       "\\\\[10pt]\n",
       "E_{cm} &= 31475.81\\ \\text{MPa} \\; \n",
       "\\\\[10pt]\n",
       "f_{ctm} &= 2.56\\ \\text{MPa} \\; \n",
       "\\\\[10pt]\n",
       "h &= 500.00\\ \\text{mm} \\; \n",
       "\\\\[10pt]\n",
       "d &= 460.00\\ \\text{mm} \\; \n",
       "\\\\[10pt]\n",
       "b &= 300.00\\ \\text{mm} \\; \n",
       "\\\\[10pt]\n",
       "A_{s} &= 1017.85\\ \\text{mm}^{2} \\; \n",
       "\\\\[10pt]\n",
       "\\Phi &= 18.00\\ \\text{mm} \\; \\;\\textrm{(Nel caso le barre abbiano diametri diversi, occorre calcolarne uno equivalente)}\n",
       "\\end{aligned}\n",
       "\\]"
      ],
      "text/plain": [
       "<IPython.core.display.Latex object>"
      ]
     },
     "metadata": {},
     "output_type": "display_data"
    }
   ],
   "source": [
    "%%render 2 short\n",
    "E_s = ((sec.As.steel_material.Es*MPa).prefix(\"M\"))\n",
    "E_cm = ((sec.concrete_material.Ecm*MPa).prefix(\"M\"))\n",
    "f_ctm = ((sec.concrete_material.fctm*MPa).prefix(\"M\"))\n",
    "h = (sec.h*mm)\n",
    "d = (sec.d*mm)\n",
    "b = (sec.b*mm)\n",
    "A_s = (sec.As.area*mm**2)\n",
    "Phi = (sec.As.diameter*mm) #Nel caso le barre abbiano diametri diversi, occorre calcolarne uno equivalente"
   ]
  },
  {
   "cell_type": "code",
   "execution_count": null,
   "metadata": {},
   "outputs": [
    {
     "data": {
      "text/latex": [
       "\\[\n",
       "\\begin{aligned}\n",
       "x &= 157.51\\ \\text{mm} \\; \n",
       "\\\\[10pt]\n",
       "\\sigma_{s} &= 189.43\\ \\text{MPa} \\; \n",
       "\\\\[10pt]\n",
       "\\alpha_{e} &= \\frac{ E_{s} }{ E_{cm} }  = \\frac{ 210000.00\\ \\text{MPa} }{ 31475.81\\ \\text{MPa} } &= 6.67  \n",
       "\\\\[10pt]\n",
       "h_{c_{eff}} &= \\operatorname{min} { \\left( 2.5 \\cdot \\left( h - d \\right) ,\\  \\frac{ h - x }{ 3 } ,\\  h \\cdot \\frac{1} { 2 } \\right) }  = \\operatorname{min} { \\left( 2.5 \\cdot \\left( 500.00\\ \\text{mm} - 460.00\\ \\text{mm} \\right) ,\\  \\frac{ 500.00\\ \\text{mm} - 157.51\\ \\text{mm} }{ 3 } ,\\  500.00\\ \\text{mm} \\cdot \\frac{1} { 2 } \\right) } &= 100.00\\ \\text{mm}  \n",
       "\\\\[10pt]\n",
       "A_{c_{eff}} &= b \\cdot h_{c_{eff}}  = 300.00\\ \\text{mm} \\cdot 100.00\\ \\text{mm} &= 30000.00\\ \\text{mm}^{2}  \n",
       "\\\\[10pt]\n",
       "\\rho_{eff} &= \\frac{ A_{s} }{ A_{c_{eff}} }  = \\frac{ 1017.85\\ \\text{mm}^{2} }{ 30000.00\\ \\text{mm}^{2} } &= 3.39 \\times 10 ^ {-2 }  \n",
       "\\\\[10pt]\n",
       "k_{t} &= 0.4 \\; \\;\\textrm{(Quasi permanente)}\n",
       "\\\\[10pt]\n",
       "\\epsilon_{sm_{QP}} &= \\frac{ \\sigma_{s} - k_{t} \\cdot \\frac{ f_{ctm} }{ \\rho_{eff} } \\cdot \\left( 1 + \\alpha_{e} \\cdot \\rho_{eff} \\right) }{ E_{s} }  = \\frac{ 189.43\\ \\text{MPa} - 0.4 \\cdot \\frac{ 2.56\\ \\text{MPa} }{ 3.39 \\times 10 ^ {-2 } } \\cdot \\left( 1 + 6.67 \\cdot 3.39 \\times 10 ^ {-2 } \\right) }{ 210000.00\\ \\text{MPa} } &= 7.25 \\times 10 ^ {-4 }  \n",
       "\\\\[10pt]\n",
       "\\epsilon_{sm_{lim_{QP}}} &= 0.6 \\cdot \\frac{ \\sigma_{s} }{ E_{s} }  = 0.6 \\cdot \\frac{ 189.43\\ \\text{MPa} }{ 210000.00\\ \\text{MPa} } &= 5.41 \\times 10 ^ {-4 }  \n",
       "\\\\[10pt]\n",
       "\\epsilon_{sm_{vero_{QP}}} &= \\operatorname{max} { \\left( \\epsilon_{sm_{QP}} ,\\  \\epsilon_{sm_{lim_{QP}}} \\right) }  = \\operatorname{max} { \\left( 7.25 \\times 10 ^ {-4 } ,\\  5.41 \\times 10 ^ {-4 } \\right) } &= 7.25 \\times 10 ^ {-4 }  \n",
       "\\end{aligned}\n",
       "\\]"
      ],
      "text/plain": [
       "<IPython.core.display.Latex object>"
      ]
     },
     "metadata": {},
     "output_type": "display_data"
    }
   ],
   "source": [
    "%%render 2 short\n",
    "x = (res_sec[\"x\"]*mm)\n",
    "sigma_s = (res_sec[\"sigma_s\"]*MPa)\n",
    "alpha_e = E_s/E_cm \n",
    "h_c_eff = min(2.5*(h-d),(h-x)/3,h/2)\n",
    "A_c_eff = b*h_c_eff\n",
    "rho_eff = A_s/A_c_eff\n",
    "\n",
    "\n",
    "k_t = 0.4 #Quasi permanente\n",
    "epsilon_sm_QP = (sigma_s - k_t*f_ctm/rho_eff * (1+alpha_e*rho_eff))/E_s\n",
    "epsilon_sm_lim_QP = 0.6*sigma_s/E_s\n",
    "\n",
    "epsilon_sm_vero_QP = max(epsilon_sm_QP, epsilon_sm_lim_QP)"
   ]
  },
  {
   "cell_type": "code",
   "execution_count": null,
   "metadata": {},
   "outputs": [
    {
     "data": {
      "text/latex": [
       "\\[\n",
       "\\begin{aligned}\n",
       "& \\textrm{ Scegliere k1, k2 e c qui sotto:}\\\\[10pt]\n",
       "k_{1} &= 0.8 \\; \\;\\textrm{(barre ad aderenza migliorata)}\n",
       "\\\\[10pt]\n",
       "k_{2} &= 0.5 \\; \\;\\textrm{(nel caso della flessione)}\n",
       "\\\\[10pt]\n",
       "k_{3} &= 3.4 \\; \\;\\textrm{(fisso)}\n",
       "\\\\[10pt]\n",
       "k_{4} &= 0.425 \\; \\;\\textrm{(fisso)}\n",
       "\\\\[10pt]\n",
       "c &= 20.000\\ \\text{mm} \\; \\;\\textrm{(ricoprimento barre)}\n",
       "\\\\[10pt]\n",
       "\\Delta_{sm} &= \\frac{ k_{3} \\cdot c + k_{1} \\cdot k_{2} \\cdot k_{4} \\cdot \\frac{ \\Phi }{ \\rho_{eff} } }{ 1.7 }  = \\frac{ 3.4 \\cdot 20.000\\ \\text{mm} + 0.8 \\cdot 0.5 \\cdot 0.425 \\cdot \\frac{ 18.000\\ \\text{mm} }{ 3.393 \\times 10 ^ {-2 } } }{ 1.7 } &= 93.053\\ \\text{mm}  \n",
       "\\\\[10pt]\n",
       "w_{k_{QP}} &= \\left( 1.7 \\cdot \\epsilon_{sm_{vero_{QP}}} \\cdot \\Delta_{sm} \\right)  = \\left( 1.7 \\cdot 7.255 \\times 10 ^ {-4 } \\cdot 93.053\\ \\text{mm} \\right) &= 0.115\\ \\text{mm}  \n",
       "\\end{aligned}\n",
       "\\]"
      ],
      "text/plain": [
       "<IPython.core.display.Latex object>"
      ]
     },
     "metadata": {},
     "output_type": "display_data"
    }
   ],
   "source": [
    "%%render 3\n",
    "## Scegliere k1, k2 e c qui sotto:\n",
    "\n",
    "k_1 = 0.8 # barre ad aderenza migliorata\n",
    "k_2 = 0.5 # nel caso della flessione\n",
    "k_3 = 3.4 # fisso\n",
    "k_4 = 0.425 # fisso\n",
    "\n",
    "c = (20*mm) # ricoprimento barre\n",
    "Delta_sm = (k_3*c + k_1*k_2*k_4*Phi/rho_eff)/1.7\n",
    "\n",
    "w_k_QP = (1.7*epsilon_sm_vero_QP*Delta_sm).prefix(\"m\")"
   ]
  },
  {
   "cell_type": "markdown",
   "metadata": {},
   "source": [
    "## Frequente"
   ]
  },
  {
   "cell_type": "code",
   "execution_count": null,
   "metadata": {},
   "outputs": [
    {
     "data": {
      "text/plain": [
       "{'x': 157.50801020071052,\n",
       " 'sigma_c': 8.536894327346056,\n",
       " 'sigma_s': 245.924840440927,\n",
       " 'sigma_s1': 95.5335666187893,\n",
       " '<sigma_cR': True,\n",
       " '<sigma_sR': True,\n",
       " '<sigma_sR1': True}"
      ]
     },
     "execution_count": 6,
     "metadata": {},
     "output_type": "execute_result"
    }
   ],
   "source": [
    "sec.internal_forces = InternalForces(M=102.61*10**6, N=0.)\n",
    "sec.name = \"Freq\"\n",
    "cls.is_sls_qp = False   \n",
    "\n",
    "res_sec = sls(section=sec)[0]\n",
    "res_sec"
   ]
  },
  {
   "cell_type": "code",
   "execution_count": null,
   "metadata": {},
   "outputs": [
    {
     "data": {
      "text/latex": [
       "\\[\n",
       "\\begin{aligned}\n",
       "& \\textrm{ Analogamente a quanto fatto sopra, con una sigmas di combinazione frequente si ha ora:}\\\\[10pt]\n",
       "x &= 157.508\\ \\text{mm} \\; \n",
       "\\\\[10pt]\n",
       "\\sigma_{s} &= 245.925\\ \\text{MPa} \\; \n",
       "\\\\[10pt]\n",
       "k_{t} &= 0.6 \\; \\;\\textrm{(Frequente)}\n",
       "\\\\[10pt]\n",
       "\\epsilon_{sm_{FREQ}} &= \\frac{ \\sigma_{s} - k_{t} \\cdot \\frac{ f_{ctm} }{ \\rho_{eff} } \\cdot \\left( 1 + \\alpha_{e} \\cdot \\rho_{eff} \\right) }{ E_{s} }  = \\frac{ 245.925\\ \\text{MPa} - 0.6 \\cdot \\frac{ 2.565\\ \\text{MPa} }{ 3.393 \\times 10 ^ {-2 } } \\cdot \\left( 1 + 6.672 \\cdot 3.393 \\times 10 ^ {-2 } \\right) }{ 210000.000\\ \\text{MPa} } &= 9.062 \\times 10 ^ {-4 }  \n",
       "\\\\[10pt]\n",
       "\\epsilon_{sm_{lim_{FREQ}}} &= 0.6 \\cdot \\frac{ \\sigma_{s} }{ E_{s} }  = 0.6 \\cdot \\frac{ 245.925\\ \\text{MPa} }{ 210000.000\\ \\text{MPa} } &= 7.026 \\times 10 ^ {-4 }  \n",
       "\\\\[10pt]\n",
       "\\epsilon_{sm_{vero_{FREQ}}} &= \\operatorname{max} { \\left( \\epsilon_{sm_{FREQ}} ,\\  \\epsilon_{sm_{lim_{FREQ}}} \\right) }  = \\operatorname{max} { \\left( 9.062 \\times 10 ^ {-4 } ,\\  7.026 \\times 10 ^ {-4 } \\right) } &= 9.062 \\times 10 ^ {-4 }  \n",
       "\\\\[10pt]\n",
       "w_{k_{freq}} &= \\left( 1.7 \\cdot \\epsilon_{sm_{vero_{FREQ}}} \\cdot \\Delta_{sm} \\right)  = \\left( 1.7 \\cdot 9.062 \\times 10 ^ {-4 } \\cdot 93.053\\ \\text{mm} \\right) &= 0.143\\ \\text{mm}  \n",
       "\\end{aligned}\n",
       "\\]"
      ],
      "text/plain": [
       "<IPython.core.display.Latex object>"
      ]
     },
     "metadata": {},
     "output_type": "display_data"
    }
   ],
   "source": [
    "%%render 3 short\n",
    "## Analogamente a quanto fatto sopra, con una sigmas di combinazione frequente si ha ora:\n",
    "x = (res_sec[\"x\"]*mm)\n",
    "sigma_s = (res_sec[\"sigma_s\"]*MPa)\n",
    "\n",
    "k_t = 0.6 #Frequente\n",
    "epsilon_sm_FREQ = (sigma_s - k_t*f_ctm/rho_eff * (1+alpha_e*rho_eff))/E_s\n",
    "epsilon_sm_lim_FREQ = 0.6*sigma_s/E_s\n",
    "epsilon_sm_vero_FREQ = max(epsilon_sm_FREQ, epsilon_sm_lim_FREQ)\n",
    "\n",
    "w_k_freq = (1.7*epsilon_sm_vero_FREQ*Delta_sm).prefix(\"m\")"
   ]
  }
 ],
 "metadata": {
  "interpreter": {
   "hash": "e9dfbbb36e3b3679682f891148ee1981976897dd5367a65a9c1bc658de856a84"
  },
  "kernelspec": {
   "display_name": "Python 3.9.7 ('st')",
   "language": "python",
   "name": "python3"
  },
  "language_info": {
   "codemirror_mode": {
    "name": "ipython",
    "version": 3
   },
   "file_extension": ".py",
   "mimetype": "text/x-python",
   "name": "python",
   "nbconvert_exporter": "python",
   "pygments_lexer": "ipython3",
   "version": "3.9.7"
  },
  "orig_nbformat": 4
 },
 "nbformat": 4,
 "nbformat_minor": 2
}
