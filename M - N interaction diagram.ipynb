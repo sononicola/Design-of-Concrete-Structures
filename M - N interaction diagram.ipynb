{
 "cells": [
  {
   "cell_type": "code",
   "execution_count": 11,
   "metadata": {},
   "outputs": [],
   "source": [
    "import numpy as np\n",
    "import matplotlib.pyplot as plt"
   ]
  },
  {
   "cell_type": "code",
   "execution_count": 12,
   "metadata": {},
   "outputs": [],
   "source": [
    "b = 400\n",
    "h = 450\n",
    "As = 1407\n",
    "As1 = 1206\n",
    "d = 410\n",
    "d1 = 40\n",
    "d2 = 40\n",
    "\n",
    "fck = 25\n",
    "fyk = 450\n",
    "fyk1 = 450\n",
    "Ec = 31475.806\n",
    "Es = 200000\n",
    "\n",
    "ese = 1.9565/1000\n",
    "ese1 = 1.9565/1000\n",
    "esu = 10/1000 # campo 1 e 2\n",
    "ecu = 3.5/1000\n",
    "ec = 3.5/1000\n",
    "ec2 = 2/1000\n",
    "\n"
   ]
  },
  {
   "cell_type": "code",
   "execution_count": 13,
   "metadata": {},
   "outputs": [
    {
     "data": {
      "text/plain": [
       "0.25925925925925924"
      ]
     },
     "execution_count": 13,
     "metadata": {},
     "output_type": "execute_result"
    }
   ],
   "source": [
    "xi23 = ecu/(ecu + esu)\n",
    "xi23"
   ]
  },
  {
   "cell_type": "code",
   "execution_count": 14,
   "metadata": {},
   "outputs": [
    {
     "data": {
      "text/plain": [
       "0.6414368184733804"
      ]
     },
     "execution_count": 14,
     "metadata": {},
     "output_type": "execute_result"
    }
   ],
   "source": [
    "xi34 = ecu/(ecu + ese1)\n",
    "xi34"
   ]
  },
  {
   "cell_type": "code",
   "execution_count": 15,
   "metadata": {},
   "outputs": [
    {
     "data": {
      "text/plain": [
       "-0.12194818721979721"
      ]
     },
     "execution_count": 15,
     "metadata": {},
     "output_type": "execute_result"
    }
   ],
   "source": [
    "# NO\n",
    "xi2a2b = (d2/d * esu - ese1) / (esu -ese1) \n",
    "xi2a2b"
   ]
  },
  {
   "cell_type": "code",
   "execution_count": 16,
   "metadata": {},
   "outputs": [],
   "source": [
    "def storeToDict(dic,strainRange,N,M,nu,mu):\n",
    "    dic[strainRange][\"N\"] = N\n",
    "    dic[strainRange][\"M\"] = M\n",
    "    dic[strainRange][\"nu\"] = nu\n",
    "    dic[strainRange][\"mu\"] = mu\n",
    "    "
   ]
  },
  {
   "cell_type": "code",
   "execution_count": 17,
   "metadata": {},
   "outputs": [],
   "source": [
    "def strainDistribution(As,As1):\n",
    "    # per store to dict \n",
    "    global N\n",
    "    global M\n",
    "    global nu\n",
    "    global mu\n",
    "    global xi\n",
    "    global x\n",
    "    \n",
    "    # Two concatenated dictionaries to store all values for each stain range (1-6)\n",
    "    dic = {}\n",
    "    fcd = fck * 0.85 / 1.5\n",
    "    fyd = fyk/1.15 \n",
    "    \n",
    "    # ---------------------------------------------------------------------\n",
    "    # ------------------------------ CAMPO 2 ------------------------------\n",
    "    # ---------------------------------------------------------------------\n",
    "    \n",
    "    strainRange = \"2\"\n",
    "    dic[strainRange]={}\n",
    "\n",
    "    xi = np.linspace(0,xi23,130)\n",
    "    x = xi * d\n",
    "    es1 = - (esu * (x - d2)) /(d - x)\n",
    "\n",
    "    fyd1 = []\n",
    "    for i in range(len(es1)):\n",
    "        if abs(es1[i]) > ese1 and es1[i] > 0:\n",
    "            fyd1.append(fyk1/1.15)\n",
    "        elif abs(es1[i]) > ese1 and es1[i] < 0:\n",
    "            fyd1.append(-fyk1/1.15)\n",
    "        else:\n",
    "            fyd1.append(Es * es1[i])\n",
    "    fyd1 = np.array(fyd1)        \n",
    "\n",
    "    psi = []\n",
    "    # n = 2 C<C50/60\n",
    "    for i in range(len(xi)):\n",
    "        if xi[i] < 1/6:\n",
    "            psi.append(xi[i]/(1-xi[i]) * esu/(3 * ec2**2) * (3 * ec2 - xi[i]/(1-xi[i]) * esu))\n",
    "        else:\n",
    "            psi.append(1 - ( ec2*(1-xi[i]) ) / ( 3*esu*xi[i] ))\n",
    "    psi = np.array(psi)  \n",
    "\n",
    "    lamb = [] #lambda\n",
    "    # n = 2 C<C50/60\n",
    "    for i in range(len(xi)):\n",
    "        if xi[i] < 1/6:\n",
    "            lamb.append( ( 4*ec2 - esu*xi[i]/(1-xi[i]) ) / ( 4*(3*ec2 - esu*xi[i]/(1-xi[i])) ) )\n",
    "        else:\n",
    "            lamb.append( ( (6*esu**2 + 4*esu*ec2 +  ec2**2)*xi[i]**2 - 2*ec2**2*xi[i] + ec2**2 - 4*esu*ec2*xi[i] ) / ( 4*esu*xi[i]*((3*esu+ec2)*xi[i] - ec2 )) )        \n",
    "    lamb[0]=0\n",
    "    lamb = np.array(lamb) \n",
    "\n",
    "    N = b * psi * x * fcd  - fyd1*As1 - fyd * As \n",
    "    M = b * psi * x * fcd * (h/2 - lamb*x)  - fyd1*As1* (h/2 - d2) + fyd * As* (h/2 - d1)\n",
    "    nu = N/(b*d*fcd)\n",
    "    mu = M/(b*d**2*fcd)\n",
    "    \n",
    "    storeToDict(dic,strainRange,N,M,nu,mu)\n",
    "    \n",
    "    # ---------------------------------------------------------------------\n",
    "    # ------------------------------ CAMPO 3 ------------------------------\n",
    "    # ---------------------------------------------------------------------\n",
    "    \n",
    "    strainRange = \"3\"\n",
    "    dic[strainRange]={}\n",
    "    \n",
    "    fcd = fck * 0.85 / 1.5\n",
    "    fyd = fyk/1.15\n",
    "\n",
    "    xi = np.linspace(xi23,xi34,100)\n",
    "    x = xi * d\n",
    "\n",
    "    es1 = - ecu * (x - d2) / x\n",
    "\n",
    "    fyd1 = -fyk1/1.15  \n",
    "\n",
    "    psi = 17/21 # 0.8095238095238095\n",
    "\n",
    "    lamb = 99/238 # 0.4159663865546219\n",
    "\n",
    "    # solo campo 3B. Da capire il 3A perché non lo considera!\n",
    "    \n",
    "    N = b * psi * x * fcd  - fyd1*As1 - fyd * As  \n",
    "    M = b * psi * x * fcd * (h/2 - lamb*x)  - fyd1*As1* (h/2 - d2) + fyd * As* (h/2 - d1)\n",
    "    nu = N/(b*d*fcd)\n",
    "    mu = M/(b*d**2*fcd)\n",
    "    \n",
    "    storeToDict(dic,strainRange,N,M,nu,mu)\n",
    "    \n",
    "    # ---------------------------------------------------------------------\n",
    "    # ------------------------------ CAMPO 4 ------------------------------\n",
    "    # ---------------------------------------------------------------------\n",
    "    \n",
    "    strainRange = \"4\"\n",
    "    dic[strainRange]={}\n",
    "    \n",
    "    fcd = fck * 0.85 / 1.5\n",
    "\n",
    "    xi = np.linspace(xi34,1,100)\n",
    "    x = xi * d\n",
    "\n",
    "    es1 = - ecu * (x - d2) / x\n",
    "    es = ecu * (d-x) / x\n",
    "\n",
    "    fyd1 = -fyk1/1.15  \n",
    "    fyd = Es*es\n",
    "\n",
    "    psi = 17/21 # 0.8095238095238095\n",
    "\n",
    "    lamb = 99/238 # 0.4159663865546219\n",
    "\n",
    "    # solo campo 3B. Da capire il 3A perché non lo considera!\n",
    "    \n",
    "    N = b * psi * x * fcd  - fyd1*As1 - fyd * As  \n",
    "    M = b * psi * x * fcd * (h/2 - lamb*x)  - fyd1*As1* (h/2 - d2) + fyd * As* (h/2 - d1)\n",
    "    nu = N/(b*d*fcd)\n",
    "    mu = M/(b*d**2*fcd)\n",
    "    \n",
    "    storeToDict(dic,strainRange,N,M,nu,mu)\n",
    "    \n",
    "    # ---------------------------------------------------------------------\n",
    "    # ------------------------------ CAMPO 5 ------------------------------\n",
    "    # ---------------------------------------------------------------------\n",
    "    \n",
    "    strainRange = \"5\"\n",
    "    dic[strainRange]={}\n",
    "    \n",
    "    fcd = fck * 0.85 / 1.5\n",
    "\n",
    "    xi = np.linspace(1,1+d1/d,20)\n",
    "    x = xi * d\n",
    "\n",
    "    es1 = - ecu * (x - d2) / x\n",
    "    es = - ecu * (d-x) / x\n",
    "\n",
    "    fyd1 = -fyk1/1.15  \n",
    "    fyd = - Es*es\n",
    "\n",
    "    psi = 17/21 # 0.8095238095238095\n",
    "\n",
    "    lamb = 99/238 # 0.4159663865546219\n",
    "\n",
    "    # solo campo 3B. Da capire il 3A perché non lo considera!\n",
    "    \n",
    "    N = b * psi * x * fcd  - fyd1*As1 - fyd * As  \n",
    "    M = b * psi * x * fcd * (h/2 - lamb*x)  - fyd1*As1* (h/2 - d2) + fyd * As* (h/2 - d1)\n",
    "    nu = N/(b*d*fcd)\n",
    "    mu = M/(b*d**2*fcd)\n",
    "    \n",
    "    storeToDict(dic,strainRange,N,M,nu,mu)\n",
    "    # ------------------------------------\n",
    "    \n",
    "    return dic"
   ]
  },
  {
   "cell_type": "code",
   "execution_count": 18,
   "metadata": {},
   "outputs": [
    {
     "data": {
      "text/plain": [
       "{'N': array([2352706.69427191, 2367395.58892233, 2382033.33828559,\n",
       "        2396620.71826996, 2411158.48916796, 2425647.39604721,\n",
       "        2440088.16912967, 2454481.52415952, 2468828.16276023,\n",
       "        2483128.77278107, 2497384.02863346, 2511594.59161754,\n",
       "        2525761.11023928, 2539884.22051833, 2553964.54628718,\n",
       "        2568002.6994816 , 2581999.28042294, 2595954.87809234,\n",
       "        2609870.0703973 , 2623745.42443064]),\n",
       " 'M': array([1.89720240e+08, 1.87659810e+08, 1.85591928e+08, 1.83516450e+08,\n",
       "        1.81433235e+08, 1.79342145e+08, 1.77243046e+08, 1.75135804e+08,\n",
       "        1.73020291e+08, 1.70896378e+08, 1.68763941e+08, 1.66622859e+08,\n",
       "        1.64473010e+08, 1.62314276e+08, 1.60146544e+08, 1.57969699e+08,\n",
       "        1.55783631e+08, 1.53588230e+08, 1.51383389e+08, 1.49169004e+08]),\n",
       " 'nu': array([1.01264277, 1.0189651 , 1.02526543, 1.03154407, 1.03780136,\n",
       "        1.04403762, 1.05025316, 1.05644829, 1.06262331, 1.06877852,\n",
       "        1.07491422, 1.08103067, 1.08712817, 1.09320698, 1.09926738,\n",
       "        1.10530963, 1.11133398, 1.11734069, 1.12333002, 1.12930219]),\n",
       " 'mu': array([0.19916741, 0.19700438, 0.19483353, 0.1926547 , 0.19046776,\n",
       "        0.18827254, 0.18606891, 0.18385674, 0.18163589, 0.17940621,\n",
       "        0.17716759, 0.17491989, 0.17266299, 0.17039676, 0.16812109,\n",
       "        0.16583585, 0.16354092, 0.1612362 , 0.15892157, 0.15659692])}"
      ]
     },
     "execution_count": 18,
     "metadata": {},
     "output_type": "execute_result"
    }
   ],
   "source": [
    "# Above and below x axis: invert steel areas and change M sign in plotting function \n",
    "MN_up = strainDistribution(As,As1)\n",
    "MN_down = strainDistribution(As1,As) \n",
    "MN_up['5']"
   ]
  },
  {
   "cell_type": "code",
   "execution_count": 19,
   "metadata": {},
   "outputs": [],
   "source": [
    "def create_multiple_strainDistribution(As: list, As1: list) -> list[tuple[dict]]:\n",
    "    \"\"\"example [(MN_up_1, MN_down_1), (MN_up_2, MN_down_2), ...]\"\"\"\n",
    "    multiple_strain_distributions = []\n",
    "    for i in range(len(As1)):\n",
    "        tup = (mn_up, mn_down) = strainDistribution(As[i], As1[i]), strainDistribution(As1[i], As[i])\n",
    "        multiple_strain_distributions.append(tup)\n",
    "    return multiple_strain_distributions\n",
    "\n",
    "def a(bars: int , diameter: int):\n",
    "    return bars * 3.14 * diameter**2 / 4\n",
    "\n",
    "\n",
    "As_list = [a(4,12),a(4,14), a(4,16)]\n",
    "As1_list = [a(2,12),a(2,14), a(2,16)]\n",
    "mult = create_multiple_strainDistribution(As_list,As1_list)\n"
   ]
  },
  {
   "cell_type": "code",
   "execution_count": 29,
   "metadata": {},
   "outputs": [
    {
     "data": {
      "image/png": "[encoded data removed]",
      "text/plain": [
       "<Figure size 504x360 with 1 Axes>"
      ]
     },
     "metadata": {
      "needs_background": "light"
     },
     "output_type": "display_data"
    }
   ],
   "source": [
    "COLORS = [\"red\",\"green\",\"blue\",\"orange\"]\n",
    "def interaction_diagram_single(dic_up,dic_down):\n",
    "    fig, ax = plt.subplots(1,1, figsize = (7, 5))\n",
    "    ax.set_xlabel('nu')\n",
    "    ax.set_ylabel('mu')\n",
    "\n",
    "    for i in range(2,6): #(1,7) when finisched\n",
    "        k = i - 2 # i -1\n",
    "        i = str(i)\n",
    "        ax.plot(dic_up[i][\"nu\"],dic_up[i][\"mu\"],dic_down[i][\"nu\"],-dic_down[i][\"mu\"],color=COLORS[k],label=i)\n",
    "        ax.legend()\n",
    "\n",
    "def interaction_diagram_multiple(multiple_strainDistribution: create_multiple_strainDistribution, NM=True):\n",
    "    x = \"N\" if NM else \"nu\"\n",
    "    y = \"M\" if NM else \"mu\"\n",
    "    fig, ax = plt.subplots(1,1, figsize = (7, 5))\n",
    "    ax.set_xlabel(x)\n",
    "    ax.set_ylabel(y)\n",
    "    ax.grid(\"True\")\n",
    "    ax.set_title(f\"{x}-{y} diagram\")\n",
    "    for area in range(len(multiple_strainDistribution)):\n",
    "        for i in range(2,6): #(1,7) when finisched #TODO \n",
    "            k = i - 2 # i -1 #togliere completamente k #TODO\n",
    "            i = str(i)\n",
    "            dic_up, dic_down = multiple_strainDistribution[area]\n",
    "            ax.plot(dic_up[i][x],dic_up[i][y],dic_down[i][x],-dic_down[i][y],color=COLORS[k])\n",
    "        #ax.plot([],[], label=f\"Area: {area}\")    \n",
    "    ax.text(\n",
    "        x=0.3, \n",
    "        y=0.5, \n",
    "        s=f\"b = {b}\\nh = {h}\\nAs   = {As_list} \\nAs1 = {As1_list} \", \n",
    "        horizontalalignment='left',\n",
    "        verticalalignment='center', \n",
    "        transform=ax.transAxes, #used to make x,y coords in global coordinates\n",
    "        bbox=dict(facecolor='grey', alpha=0.3)\n",
    "    )\n",
    "\n",
    "#interaction_diagram_single(MN_up,MN_down)\n",
    "interaction_diagram_multiple(mult)\n"
   ]
  },
  {
   "cell_type": "code",
   "execution_count": 21,
   "metadata": {},
   "outputs": [],
   "source": [
    "fcd = fck * 0.85 / 1.5\n",
    "\n",
    "t = (ecu-ec2)*(d+d1)/ecu # C<C50/60: 3/7 * h\n",
    "\n",
    "xi = np.linspace(1+d1/d,50,1000)\n",
    "x = xi * d\n",
    "\n",
    "es1 = - ec2 * (x - d2) / (x-t)\n",
    "es = - ec2 * (x-d) / (x-t)\n",
    "\n",
    "fyd1 = -fyk1/1.15  \n",
    "\n",
    "#x6a6b = (ec2 * d + ese * t)/(ec2 + ese)\n",
    "\n",
    "fyd = []\n",
    "for i in range(len(x)):\n",
    "    if abs(es[i]) < ese:\n",
    "        fyd.append(Es * es[i])\n",
    "    else:\n",
    "        fyd.append(- fyk/1.15)\n",
    "fyd = np.array(fyd)\n",
    "\n",
    "psi = []\n",
    "# n = 2 C<C50/60\n",
    "for i in range(len(xi)):\n",
    "    psi.append( (xi[i]**2 - 6/7*xi[i] + 125/1029) / (xi[i] - 3/7)**2 )\n",
    "psi = np.array(psi)  \n",
    "\n",
    "lamb = [] #lambda\n",
    "# n = 2 C<C50/60\n",
    "for i in range(len(xi)):\n",
    "    lamb.append( 3/14 * (2401*xi[i]**2 - 2058*xi[i] + 185 )/( 1029*xi[i]**2 - 882*xi[i] +125 ) )        \n",
    "lamb = np.array(lamb) \n",
    "\n",
    "N = b * psi * h * fcd  - fyd1*As1 + fyd * As  \n",
    "M = b * psi * h * fcd * (h/2 - lamb*h)  - fyd1*As1* (h/2 - d2) + fyd * As* (h/2 - d1)\n",
    "nu = N/(b*d*fcd)\n",
    "mu = M/(b*d**2*fcd)"
   ]
  },
  {
   "cell_type": "code",
   "execution_count": 22,
   "metadata": {},
   "outputs": [],
   "source": [
    "fyd1 = []\n",
    "for i in range(len(es1)):\n",
    "    if abs(es1[i]) > ese1 and es1[i] > 0:\n",
    "        fyd1.append(fyk1/1.15)\n",
    "    elif abs(es1[i]) > ese1 and es1[i] < 0:\n",
    "        fyd1.append(-fyk1/1.15)\n",
    "    else:\n",
    "        fyd1.append(Es * es1[i])\n",
    "fyd1 = np.array(fyd1) "
   ]
  },
  {
   "cell_type": "code",
   "execution_count": 23,
   "metadata": {},
   "outputs": [
    {
     "data": {
      "text/plain": [
       "0.8610284391534392"
      ]
     },
     "execution_count": 23,
     "metadata": {},
     "output_type": "execute_result"
    }
   ],
   "source": [
    "(xi[0]**2 - 6/7*xi[0] + 125/1029) / ((xi[0] - 3/7)**2)"
   ]
  },
  {
   "cell_type": "code",
   "execution_count": 24,
   "metadata": {},
   "outputs": [
    {
     "data": {
      "text/plain": [
       "0.8610284391534392"
      ]
     },
     "execution_count": 24,
     "metadata": {},
     "output_type": "execute_result"
    }
   ],
   "source": [
    "1/(3*ecu) * ( 3*ecu - ec2*( (1-t/h)/(xi[0]-t/h) )**2 )"
   ]
  },
  {
   "cell_type": "code",
   "execution_count": 25,
   "metadata": {},
   "outputs": [
    {
     "data": {
      "text/plain": [
       "1.0975609756097562"
      ]
     },
     "execution_count": 25,
     "metadata": {},
     "output_type": "execute_result"
    }
   ],
   "source": [
    "xi[0]"
   ]
  },
  {
   "cell_type": "code",
   "execution_count": 26,
   "metadata": {},
   "outputs": [
    {
     "data": {
      "text/plain": [
       "0.442356491324326"
      ]
     },
     "execution_count": 26,
     "metadata": {},
     "output_type": "execute_result"
    }
   ],
   "source": [
    "3/14 * (2401*xi[0]**2 - 2058*xi[0] + 185 )/( 1029*xi[0]**2 - 882*xi[0] +125)"
   ]
  },
  {
   "cell_type": "code",
   "execution_count": null,
   "metadata": {},
   "outputs": [],
   "source": []
  }
 ],
 "metadata": {
  "kernelspec": {
   "display_name": "Python 3",
   "language": "python",
   "name": "python3"
  },
  "language_info": {
   "codemirror_mode": {
    "name": "ipython",
    "version": 3
   },
   "file_extension": ".py",
   "mimetype": "text/x-python",
   "name": "python",
   "nbconvert_exporter": "python",
   "pygments_lexer": "ipython3",
   "version": "3.9.7"
  }
 },
 "nbformat": 4,
 "nbformat_minor": 4
}
