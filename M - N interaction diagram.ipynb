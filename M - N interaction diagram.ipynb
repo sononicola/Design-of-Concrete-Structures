{
 "cells": [
  {
   "cell_type": "code",
   "execution_count": 1,
   "metadata": {},
   "outputs": [],
   "source": [
    "import numpy as np\n",
    "import matplotlib.pyplot as plt"
   ]
  },
  {
   "cell_type": "code",
   "execution_count": 2,
   "metadata": {},
   "outputs": [],
   "source": [
    "b = 400\n",
    "h = 450\n",
    "As = 1407\n",
    "As1 = 1206\n",
    "d = 410\n",
    "d1 = 40\n",
    "d2 = 40\n",
    "\n",
    "fck = 25\n",
    "fyk = 450\n",
    "fyk1 = 450\n",
    "Ec = 31475.806\n",
    "Es = 200000\n",
    "\n",
    "ese = 1.9565/1000\n",
    "ese1 = 1.9565/1000\n",
    "esu = 10/1000 # campo 1 e 2\n",
    "ecu = 3.5/1000\n",
    "ec = 3.5/1000\n",
    "ec2 = 2/1000\n",
    "\n"
   ]
  },
  {
   "cell_type": "code",
   "execution_count": 3,
   "metadata": {},
   "outputs": [
    {
     "data": {
      "text/plain": [
       "0.25925925925925924"
      ]
     },
     "execution_count": 3,
     "metadata": {},
     "output_type": "execute_result"
    }
   ],
   "source": [
    "xi23 = ecu/(ecu + esu)\n",
    "xi23"
   ]
  },
  {
   "cell_type": "code",
   "execution_count": 4,
   "metadata": {},
   "outputs": [
    {
     "data": {
      "text/plain": [
       "0.6414368184733804"
      ]
     },
     "execution_count": 4,
     "metadata": {},
     "output_type": "execute_result"
    }
   ],
   "source": [
    "xi34 = ecu/(ecu + ese1)\n",
    "xi34"
   ]
  },
  {
   "cell_type": "code",
   "execution_count": 4,
   "metadata": {},
   "outputs": [
    {
     "data": {
      "text/plain": [
       "-0.12194818721979721"
      ]
     },
     "execution_count": 4,
     "metadata": {},
     "output_type": "execute_result"
    }
   ],
   "source": [
    "# NO\n",
    "xi2a2b = (d2/d * esu - ese1) / (esu -ese1) \n",
    "xi2a2b"
   ]
  },
  {
   "cell_type": "code",
   "execution_count": 5,
   "metadata": {},
   "outputs": [],
   "source": [
    "def storeToDict(dic,strainRange,N,M,nu,mu):\n",
    "    dic[strainRange][\"N\"] = N\n",
    "    dic[strainRange][\"M\"] = M\n",
    "    dic[strainRange][\"nu\"] = nu\n",
    "    dic[strainRange][\"mu\"] = mu\n",
    "    "
   ]
  },
  {
   "cell_type": "code",
   "execution_count": 6,
   "metadata": {},
   "outputs": [],
   "source": [
    "def strainDistribution(As,As1):\n",
    "    # per store to dict \n",
    "    global N\n",
    "    global M\n",
    "    global nu\n",
    "    global mu\n",
    "    global xi\n",
    "    global x\n",
    "    \n",
    "    # Two concatenated dictionaries to store all values for each stain range (1-6)\n",
    "    dic = {}\n",
    "    fcd = fck * 0.85 / 1.5\n",
    "    fyd = fyk/1.15 \n",
    "    \n",
    "    # --------------------------------------------------------------------\n",
    "    # ------------------------------ CAMPO 2 ------------------------------\n",
    "    # ---------------------------------------------------------------------\n",
    "    \n",
    "    strainRange = \"2\"\n",
    "    dic[strainRange]={}\n",
    "\n",
    "    xi = np.linspace(0,xi23,130)\n",
    "    x = xi * d\n",
    "    es1 = - (esu * (x - d2)) /(d - x)\n",
    "\n",
    "    fyd1 = []\n",
    "    for i in range(len(es1)):\n",
    "        if abs(es1[i]) > ese1 and es1[i] > 0:\n",
    "            fyd1.append(fyk1/1.15)\n",
    "        elif abs(es1[i]) > ese1 and es1[i] < 0:\n",
    "            fyd1.append(-fyk1/1.15)\n",
    "        else:\n",
    "            fyd1.append(Es * es1[i])\n",
    "    fyd1 = np.array(fyd1)        \n",
    "\n",
    "    psi = []\n",
    "    # n = 2 C<C50/60\n",
    "    for i in range(len(xi)):\n",
    "        if xi[i] < 1/6:\n",
    "            psi.append(xi[i]/(1-xi[i]) * esu/(3 * ec2**2) * (3 * ec2 - xi[i]/(1-xi[i]) * esu))\n",
    "        else:\n",
    "            psi.append(1 - ( ec2*(1-xi[i]) ) / ( 3*esu*xi[i] ))\n",
    "    psi = np.array(psi)  \n",
    "\n",
    "    lamb = [] #lambda\n",
    "    # n = 2 C<C50/60\n",
    "    for i in range(len(xi)):\n",
    "        if xi[i] < 1/6:\n",
    "            lamb.append( ( 4*ec2 - esu*xi[i]/(1-xi[i]) ) / ( 4*(3*ec2 - esu*xi[i]/(1-xi[i])) ) )\n",
    "        else:\n",
    "            lamb.append( ( (6*esu**2 + 4*esu*ec2 +  ec2**2)*xi[i]**2 - 2*ec2**2*xi[i] + ec2**2 - 4*esu*ec2*xi[i] ) / ( 4*esu*xi[i]*((3*esu+ec2)*xi[i] - ec2 )) )        \n",
    "    lamb[0]=0\n",
    "    lamb = np.array(lamb) \n",
    "\n",
    "    N = b * psi * x * fcd  - fyd1*As1 - fyd * As \n",
    "    M = b * psi * x * fcd * (h/2 - lamb*x)  - fyd1*As1* (h/2 - d2) + fyd * As* (h/2 - d1)\n",
    "    nu = N/(b*d*fcd)\n",
    "    mu = M/(b*d**2*fcd)\n",
    "    \n",
    "    storeToDict(dic,strainRange,N,M,nu,mu)\n",
    "    \n",
    "    # --------------------------------------------------------------------\n",
    "    # ------------------------------ CAMPO 3 ------------------------------\n",
    "    # ---------------------------------------------------------------------\n",
    "    \n",
    "    strainRange = \"3\"\n",
    "    dic[strainRange]={}\n",
    "    \n",
    "    fcd = fck * 0.85 / 1.5\n",
    "    fyd = fyk/1.15\n",
    "\n",
    "    xi = np.linspace(xi23,xi34,100)\n",
    "    x = xi * d\n",
    "\n",
    "    es1 = - ecu * (x - d2) / x\n",
    "\n",
    "    fyd1 = -fyk1/1.15  \n",
    "\n",
    "    psi = 17/21 # 0.8095238095238095\n",
    "\n",
    "    lamb = 99/238 # 0.4159663865546219\n",
    "\n",
    "    # solo campo 3B. Da capire il 3A perché non lo considera!\n",
    "    \n",
    "    N = b * psi * x * fcd  - fyd1*As1 - fyd * As  \n",
    "    M = b * psi * x * fcd * (h/2 - lamb*x)  - fyd1*As1* (h/2 - d2) + fyd * As* (h/2 - d1)\n",
    "    nu = N/(b*d*fcd)\n",
    "    mu = M/(b*d**2*fcd)\n",
    "    \n",
    "    storeToDict(dic,strainRange,N,M,nu,mu)\n",
    "    \n",
    "    # --------------------------------------------------------------------\n",
    "    # ------------------------------ CAMPO 4 ------------------------------\n",
    "    # ---------------------------------------------------------------------\n",
    "    \n",
    "    strainRange = \"4\"\n",
    "    dic[strainRange]={}\n",
    "    \n",
    "    fcd = fck * 0.85 / 1.5\n",
    "\n",
    "    xi = np.linspace(xi34,1,100)\n",
    "    x = xi * d\n",
    "\n",
    "    es1 = - ecu * (x - d2) / x\n",
    "    es = ecu * (d-x) / x\n",
    "\n",
    "    fyd1 = -fyk1/1.15  \n",
    "    fyd = Es*es\n",
    "\n",
    "    psi = 17/21 # 0.8095238095238095\n",
    "\n",
    "    lamb = 99/238 # 0.4159663865546219\n",
    "\n",
    "    # solo campo 3B. Da capire il 3A perché non lo considera!\n",
    "    \n",
    "    N = b * psi * x * fcd  - fyd1*As1 - fyd * As  \n",
    "    M = b * psi * x * fcd * (h/2 - lamb*x)  - fyd1*As1* (h/2 - d2) + fyd * As* (h/2 - d1)\n",
    "    nu = N/(b*d*fcd)\n",
    "    mu = M/(b*d**2*fcd)\n",
    "    \n",
    "    storeToDict(dic,strainRange,N,M,nu,mu)\n",
    "    \n",
    "    # --------------------------------------------------------------------\n",
    "    # ------------------------------ CAMPO 5 ------------------------------\n",
    "    # ---------------------------------------------------------------------\n",
    "    \n",
    "    strainRange = \"5\"\n",
    "    dic[strainRange]={}\n",
    "    \n",
    "    fcd = fck * 0.85 / 1.5\n",
    "\n",
    "    xi = np.linspace(1,1+d1/d,20)\n",
    "    x = xi * d\n",
    "\n",
    "    es1 = - ecu * (x - d2) / x\n",
    "    es = - ecu * (d-x) / x\n",
    "\n",
    "    fyd1 = -fyk1/1.15  \n",
    "    fyd = - Es*es\n",
    "\n",
    "    psi = 17/21 # 0.8095238095238095\n",
    "\n",
    "    lamb = 99/238 # 0.4159663865546219\n",
    "\n",
    "    # solo campo 3B. Da capire il 3A perché non lo considera!\n",
    "    \n",
    "    N = b * psi * x * fcd  - fyd1*As1 - fyd * As  \n",
    "    M = b * psi * x * fcd * (h/2 - lamb*x)  - fyd1*As1* (h/2 - d2) + fyd * As* (h/2 - d1)\n",
    "    nu = N/(b*d*fcd)\n",
    "    mu = M/(b*d**2*fcd)\n",
    "    \n",
    "    storeToDict(dic,strainRange,N,M,nu,mu)\n",
    "    # ------------------------------------\n",
    "    \n",
    "    return dic"
   ]
  },
  {
   "cell_type": "code",
   "execution_count": 7,
   "metadata": {},
   "outputs": [
    {
     "data": {
      "text/plain": [
       "{'N': array([2352706.69427191, 2367395.58892233, 2382033.33828559,\n",
       "        2396620.71826996, 2411158.48916796, 2425647.39604721,\n",
       "        2440088.16912967, 2454481.52415952, 2468828.16276023,\n",
       "        2483128.77278107, 2497384.02863346, 2511594.59161754,\n",
       "        2525761.11023928, 2539884.22051833, 2553964.54628718,\n",
       "        2568002.6994816 , 2581999.28042294, 2595954.87809234,\n",
       "        2609870.0703973 , 2623745.42443064]),\n",
       " 'M': array([1.89720240e+08, 1.87659810e+08, 1.85591928e+08, 1.83516450e+08,\n",
       "        1.81433235e+08, 1.79342145e+08, 1.77243046e+08, 1.75135804e+08,\n",
       "        1.73020291e+08, 1.70896378e+08, 1.68763941e+08, 1.66622859e+08,\n",
       "        1.64473010e+08, 1.62314276e+08, 1.60146544e+08, 1.57969699e+08,\n",
       "        1.55783631e+08, 1.53588230e+08, 1.51383389e+08, 1.49169004e+08]),\n",
       " 'nu': array([1.01264277, 1.0189651 , 1.02526543, 1.03154407, 1.03780136,\n",
       "        1.04403762, 1.05025316, 1.05644829, 1.06262331, 1.06877852,\n",
       "        1.07491422, 1.08103067, 1.08712817, 1.09320698, 1.09926738,\n",
       "        1.10530963, 1.11133398, 1.11734069, 1.12333002, 1.12930219]),\n",
       " 'mu': array([0.19916741, 0.19700438, 0.19483353, 0.1926547 , 0.19046776,\n",
       "        0.18827254, 0.18606891, 0.18385674, 0.18163589, 0.17940621,\n",
       "        0.17716759, 0.17491989, 0.17266299, 0.17039676, 0.16812109,\n",
       "        0.16583585, 0.16354092, 0.1612362 , 0.15892157, 0.15659692])}"
      ]
     },
     "execution_count": 7,
     "metadata": {},
     "output_type": "execute_result"
    }
   ],
   "source": [
    "# Above and below x axis: invert steel areas and change M sign in plotting function \n",
    "MN_up = strainDistribution(As,As1)\n",
    "MN_down = strainDistribution(As1,As) \n",
    "MN_up['5']"
   ]
  },
  {
   "cell_type": "code",
   "execution_count": 8,
   "metadata": {},
   "outputs": [
    {
     "data": {
      "text/plain": [
       "[<matplotlib.lines.Line2D at 0x6ffffeea37d0>]"
      ]
     },
     "execution_count": 8,
     "metadata": {},
     "output_type": "execute_result"
    },
    {
     "data": {
      "image/png": "[encoded data removed]",
      "text/plain": [
       "<Figure size 432x288 with 1 Axes>"
      ]
     },
     "metadata": {
      "needs_background": "light"
     },
     "output_type": "display_data"
    }
   ],
   "source": [
    "plt.plot(MN_up[\"2\"][\"N\"],MN_up[\"2\"][\"M\"],color=\"red\")"
   ]
  },
  {
   "cell_type": "code",
   "execution_count": 9,
   "metadata": {},
   "outputs": [
    {
     "data": {
      "text/plain": [
       "[<matplotlib.lines.Line2D at 0x6ffffb297590>]"
      ]
     },
     "execution_count": 9,
     "metadata": {},
     "output_type": "execute_result"
    },
    {
     "data": {
      "image/png": "[encoded data removed]",
      "text/plain": [
       "<Figure size 432x288 with 1 Axes>"
      ]
     },
     "metadata": {
      "needs_background": "light"
     },
     "output_type": "display_data"
    }
   ],
   "source": [
    "plt.plot(MN_up[\"2\"][\"nu\"],MN_up[\"2\"][\"mu\"],color=\"red\")\n",
    "plt.plot(MN_down[\"2\"][\"nu\"],-MN_down[\"2\"][\"mu\"],color=\"red\")\n",
    "plt.plot(MN_up[\"3\"][\"nu\"],MN_up[\"3\"][\"mu\"],color=\"green\")\n",
    "plt.plot(MN_down[\"3\"][\"nu\"],-MN_down[\"3\"][\"mu\"],color=\"green\")\n",
    "plt.plot(MN_up[\"4\"][\"nu\"],MN_up[\"4\"][\"mu\"],color=\"blue\")\n",
    "plt.plot(MN_down[\"4\"][\"nu\"],-MN_down[\"4\"][\"mu\"],color=\"blue\")\n",
    "plt.plot(MN_up[\"5\"][\"nu\"],MN_up[\"5\"][\"mu\"],color=\"orange\")\n",
    "plt.plot(MN_down[\"5\"][\"nu\"],-MN_down[\"5\"][\"mu\"],color=\"orange\")"
   ]
  },
  {
   "cell_type": "code",
   "execution_count": 10,
   "metadata": {},
   "outputs": [
    {
     "data": {
      "image/png": "[encoded data removed]",
      "text/plain": [
       "<Figure size 432x288 with 1 Axes>"
      ]
     },
     "metadata": {
      "needs_background": "light"
     },
     "output_type": "display_data"
    }
   ],
   "source": [
    "def interactionDiagram(dic_up,dic_down):\n",
    "    colors = [\"red\",\"green\",\"blue\",\"orange\"]\n",
    "    for i in range(2,6): #(1,7) when finisched\n",
    "        k = i - 2 # i -1\n",
    "        i = str(i)\n",
    "        plt.plot(dic_up[i][\"nu\"],dic_up[i][\"mu\"],dic_down[i][\"nu\"],-dic_down[i][\"mu\"],color=colors[k])\n",
    "\n",
    "interactionDiagram(MN_up,MN_down)        "
   ]
  },
  {
   "cell_type": "code",
   "execution_count": 11,
   "metadata": {},
   "outputs": [
    {
     "data": {
      "text/plain": [
       "192.85714285714286"
      ]
     },
     "execution_count": 11,
     "metadata": {},
     "output_type": "execute_result"
    }
   ],
   "source": [
    "(ecu-ec2)*(d+d1)/ecu"
   ]
  },
  {
   "cell_type": "code",
   "execution_count": 12,
   "metadata": {},
   "outputs": [],
   "source": [
    "fcd = fck * 0.85 / 1.5\n",
    "\n",
    "t= 3/7 * (d+d1) # C<C50/60 (ecu-ec2)*(d+d1)/ecu\n",
    "\n",
    "xi = np.linspace(1+d1/d,20)\n",
    "x = xi * d\n",
    "\n",
    "es1 = - ecu * (x - d2) / x\n",
    "es = - ecu * (d-x) / x\n",
    "\n",
    "fyd1 = -fyk1/1.15  \n",
    "fyd = - Es*es\n",
    "\n",
    "psi = 17/21 # 0.8095238095238095\n",
    "\n",
    "lamb = 99/238 # 0.4159663865546219\n",
    "\n",
    "# solo campo 3B. Da capire il 3A perché non lo considera!\n",
    "\n",
    "N = b * psi * x * fcd  - fyd1*As1 - fyd * As  \n",
    "M = b * psi * x * fcd * (h/2 - lamb*x)  - fyd1*As1* (h/2 - d2) + fyd * As* (h/2 - d1)\n",
    "nu = N/(b*d*fcd)\n",
    "mu = M/(b*d**2*fcd)"
   ]
  },
  {
   "cell_type": "code",
   "execution_count": null,
   "metadata": {},
   "outputs": [],
   "source": []
  },
  {
   "cell_type": "code",
   "execution_count": null,
   "metadata": {},
   "outputs": [],
   "source": []
  },
  {
   "cell_type": "code",
   "execution_count": null,
   "metadata": {},
   "outputs": [],
   "source": []
  },
  {
   "cell_type": "code",
   "execution_count": null,
   "metadata": {},
   "outputs": [],
   "source": []
  }
 ],
 "metadata": {
  "kernelspec": {
   "display_name": "Python 3",
   "language": "python",
   "name": "python3"
  },
  "language_info": {
   "codemirror_mode": {
    "name": "ipython",
    "version": 3
   },
   "file_extension": ".py",
   "mimetype": "text/x-python",
   "name": "python",
   "nbconvert_exporter": "python",
   "pygments_lexer": "ipython3",
   "version": "3.7.7"
  }
 },
 "nbformat": 4,
 "nbformat_minor": 4
}
