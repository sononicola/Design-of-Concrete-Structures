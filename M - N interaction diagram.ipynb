{
 "cells": [
  {
   "cell_type": "code",
   "execution_count": 16,
   "metadata": {},
   "outputs": [],
   "source": [
    "import numpy as np\n",
    "import matplotlib.pyplot as plt\n",
    "from reinforced_concrete.sections import create_concrete_material, create_steel_material\n",
    "\n",
    "plt.style.use([\"science\"])"
   ]
  },
  {
   "cell_type": "code",
   "execution_count": 2,
   "metadata": {},
   "outputs": [
    {
     "name": "stdout",
     "output_type": "stream",
     "text": [
      "ConcreteMaterial(fck=30, rck=37, fcm=38, fcd=17.0, Ecm=32836.57, fctm=2.896, fctk=2.028, fctd=1.3517, ec2=0.002, ecu2=0.0035, ec3=0.00175, ecu3=0.0035)\n",
      "SteelMaterial(fyk=450, Es=210000)\n"
     ]
    }
   ],
   "source": [
    "c  = create_concrete_material(\"EC2\",\"C30/37\") #TODO\n",
    "s  = create_steel_material(\"NTC18\",\"B450C\")\n",
    "s1 = create_steel_material(\"NTC18\",\"B450C\")\n",
    "print(c)\n",
    "print(s)"
   ]
  },
  {
   "cell_type": "code",
   "execution_count": 3,
   "metadata": {},
   "outputs": [],
   "source": [
    "b = 400\n",
    "h = 450\n",
    "As = 1407\n",
    "As1 = 1206\n",
    "d = 410\n",
    "d1 = 40\n",
    "d2 = 40\n",
    "\n",
    "fck = 25\n",
    "fyk = 450\n",
    "fyk1 = 450\n",
    "Ec = 31475.806\n",
    "Es = 200000\n",
    "\n",
    "ese = 1.9565/1000\n",
    "ese1 = 1.9565/1000\n",
    "esu = 10/1000 # campo 1 e 2\n",
    "ecu = 3.5/1000\n",
    "ec = 3.5/1000\n",
    "ec2 = 2/1000\n",
    "\n"
   ]
  },
  {
   "cell_type": "code",
   "execution_count": 4,
   "metadata": {},
   "outputs": [
    {
     "data": {
      "text/plain": [
       "0.25925925925925924"
      ]
     },
     "execution_count": 4,
     "metadata": {},
     "output_type": "execute_result"
    }
   ],
   "source": [
    "xi23 = ecu/(ecu + esu)\n",
    "xi23"
   ]
  },
  {
   "cell_type": "code",
   "execution_count": 5,
   "metadata": {},
   "outputs": [
    {
     "data": {
      "text/plain": [
       "0.6414368184733804"
      ]
     },
     "execution_count": 5,
     "metadata": {},
     "output_type": "execute_result"
    }
   ],
   "source": [
    "xi34 = ecu/(ecu + ese1)\n",
    "xi34"
   ]
  },
  {
   "cell_type": "code",
   "execution_count": 6,
   "metadata": {},
   "outputs": [
    {
     "data": {
      "text/plain": [
       "-0.12194818721979721"
      ]
     },
     "execution_count": 6,
     "metadata": {},
     "output_type": "execute_result"
    }
   ],
   "source": [
    "# NO\n",
    "xi2a2b = (d2/d * esu - ese1) / (esu -ese1) \n",
    "xi2a2b"
   ]
  },
  {
   "cell_type": "code",
   "execution_count": 7,
   "metadata": {},
   "outputs": [],
   "source": [
    "def storeToDict(dic,strainRange,N,M,nu,mu):\n",
    "    dic[strainRange][\"N\"] = N\n",
    "    dic[strainRange][\"M\"] = M\n",
    "    dic[strainRange][\"nu\"] = nu\n",
    "    dic[strainRange][\"mu\"] = mu\n",
    "    "
   ]
  },
  {
   "cell_type": "code",
   "execution_count": 8,
   "metadata": {},
   "outputs": [],
   "source": [
    "# Strain Range 2\n",
    "def psi_2(xi):\n",
    "    if xi < 1/6:\n",
    "        return xi/(1-xi) * esu/(3 * ec2**2) * (3 * ec2 - xi/(1-xi) * esu)\n",
    "    else:\n",
    "        return 1 - ( ec2*(1-xi) ) / ( 3*esu*xi )\n",
    "\n",
    "def lamb_2(xi):\n",
    "# only for n = 2 C<C50/60\n",
    "    if xi == 0: #TODO perché si faceva ?\n",
    "        return 0\n",
    "    elif xi <= 1/6:\n",
    "        return (4*ec2 - esu*xi/(1-xi)) / (4*(3*ec2 - esu*xi/(1-xi))) \n",
    "    else:\n",
    "        return ( (6*esu**2 + 4*esu*ec2 +  ec2**2)*xi**2 - 2*ec2**2 * xi + ec2**2 - 4*esu*ec2*xi ) / ( 4*esu*xi*((3*esu+ec2)*xi - ec2 ))        "
   ]
  },
  {
   "cell_type": "code",
   "execution_count": 9,
   "metadata": {},
   "outputs": [],
   "source": [
    "def strainDistribution(As,As1) -> dict[dict]:\n",
    "    \"\"\"\n",
    "    Return a dictionary of dictionaries for each stain range (1-6) with numpy arrays of M, N, mu, nu values\n",
    "    \n",
    "    Example: \n",
    "    As = 1407\n",
    "    As1 = 1206\n",
    "    MN_up = strainDistribution(As,As1)\n",
    "    MN_up[\"2\"][\"M\"] is an array with M values for strain range 2\n",
    "    \"\"\"\n",
    "    dic = {}\n",
    "    fcd = fck * 0.85 / 1.5\n",
    "    fyd = fyk/1.15 \n",
    "    \n",
    "    # ---------------------------------------------------------------------\n",
    "    # ------------------------------ CAMPO 2 ------------------------------\n",
    "    # ---------------------------------------------------------------------\n",
    "    \n",
    "    strainRange = \"2\"\n",
    "    dic[strainRange]={}\n",
    "\n",
    "    xi = np.linspace(0,xi23,130)\n",
    "    x = xi * d\n",
    "    es1 = - (esu * (x - d2)) /(d - x) #TODO tanto vale mettere la formula con xi (ovunque)\n",
    "\n",
    "    fyd1 = []\n",
    "    for i in range(len(es1)):\n",
    "        if abs(es1[i]) > ese1 and es1[i] > 0:\n",
    "            fyd1.append(fyk1/1.15)\n",
    "        elif abs(es1[i]) > ese1 and es1[i] < 0:\n",
    "            fyd1.append(-fyk1/1.15)\n",
    "        else:\n",
    "            fyd1.append(Es * es1[i])\n",
    "    fyd1 = np.array(fyd1)        \n",
    "\n",
    "    psi = np.array([psi_2(xi_i) for xi_i in xi])\n",
    "    lamb = np.array([lamb_2(xi_i) for xi_i in xi])\n",
    "\n",
    "    N = b * psi * x * fcd  - fyd1*As1 - fyd * As \n",
    "    M = b * psi * x * fcd * (h/2 - lamb*x)  - fyd1*As1* (h/2 - d2) + fyd * As* (h/2 - d1)\n",
    "    nu = N/(b*d*fcd)\n",
    "    mu = M/(b*d**2*fcd)\n",
    "    \n",
    "    storeToDict(dic,strainRange,N,M,nu,mu)\n",
    "    \n",
    "    # ---------------------------------------------------------------------\n",
    "    # ------------------------------ CAMPO 3 ------------------------------\n",
    "    # ---------------------------------------------------------------------\n",
    "    \n",
    "    strainRange = \"3\"\n",
    "    dic[strainRange]={}\n",
    "    \n",
    "    fyd = fyk/1.15\n",
    "\n",
    "    xi = np.linspace(xi23,xi34,100)\n",
    "    x = xi * d\n",
    "\n",
    "    es1 = - ecu * (x - d2) / x\n",
    "\n",
    "    fyd1 = -fyk1/1.15  \n",
    "\n",
    "    psi = 17/21 # 0.8095238095238095\n",
    "    lamb = 99/238 # 0.4159663865546219\n",
    "\n",
    "    # solo campo 3B. Da capire il 3A perché non lo considera!\n",
    "    \n",
    "    N = b * psi * x * fcd  - fyd1*As1 - fyd * As  \n",
    "    M = b * psi * x * fcd * (h/2 - lamb*x)  - fyd1*As1* (h/2 - d2) + fyd * As* (h/2 - d1)\n",
    "    nu = N/(b*d*fcd)\n",
    "    mu = M/(b*d**2*fcd)\n",
    "    \n",
    "    storeToDict(dic,strainRange,N,M,nu,mu)\n",
    "    \n",
    "    # ---------------------------------------------------------------------\n",
    "    # ------------------------------ CAMPO 4 ------------------------------\n",
    "    # ---------------------------------------------------------------------\n",
    "    \n",
    "    strainRange = \"4\"\n",
    "    dic[strainRange]={}\n",
    "\n",
    "    xi = np.linspace(xi34,1,100)\n",
    "    x = xi * d\n",
    "\n",
    "    es1 = - ecu * (x - d2) / x\n",
    "    es = ecu * (d-x) / x\n",
    "\n",
    "    fyd1 = -fyk1/1.15  \n",
    "    fyd = Es*es\n",
    "\n",
    "    psi = 17/21 # 0.8095238095238095\n",
    "    lamb = 99/238 # 0.4159663865546219\n",
    "    \n",
    "    N = b * psi * x * fcd  - fyd1*As1 - fyd * As  \n",
    "    M = b * psi * x * fcd * (h/2 - lamb*x)  - fyd1*As1* (h/2 - d2) + fyd * As* (h/2 - d1)\n",
    "    nu = N/(b*d*fcd)\n",
    "    mu = M/(b*d**2*fcd)\n",
    "    \n",
    "    storeToDict(dic,strainRange,N,M,nu,mu)\n",
    "    \n",
    "    # ---------------------------------------------------------------------\n",
    "    # ------------------------------ CAMPO 5 ------------------------------\n",
    "    # ---------------------------------------------------------------------\n",
    "    \n",
    "    strainRange = \"5\"\n",
    "    dic[strainRange]={}\n",
    "\n",
    "    xi = np.linspace(1,1+d1/d,20)\n",
    "    x = xi * d\n",
    "\n",
    "    es1 = - ecu * (x - d2) / x\n",
    "    es = - ecu * (d-x) / x\n",
    "\n",
    "    fyd1 = -fyk1/1.15  \n",
    "    fyd = - Es*es\n",
    "    psi = 17/21 # 0.8095238095238095\n",
    "    lamb = 99/238 # 0.4159663865546219\n",
    "    \n",
    "    N = b * psi * x * fcd  - fyd1*As1 - fyd * As  \n",
    "    M = b * psi * x * fcd * (h/2 - lamb*x)  - fyd1*As1* (h/2 - d2) + fyd * As* (h/2 - d1)\n",
    "    nu = N/(b*d*fcd)\n",
    "    mu = M/(b*d**2*fcd)\n",
    "    \n",
    "    storeToDict(dic,strainRange,N,M,nu,mu)\n",
    "    # ------------------------------------\n",
    "    \n",
    "    return dic"
   ]
  },
  {
   "cell_type": "code",
   "execution_count": 10,
   "metadata": {},
   "outputs": [],
   "source": [
    "# Above and below x axis: invert steel areas and change M sign in plotting function \n",
    "MN_up = strainDistribution(As,As1)\n",
    "MN_down = strainDistribution(As1,As) "
   ]
  },
  {
   "cell_type": "code",
   "execution_count": 11,
   "metadata": {},
   "outputs": [],
   "source": [
    "def create_multiple_strainDistribution(As: list, As1: list) -> list[tuple[dict]]:\n",
    "    \"\"\"example [(MN_up_1, MN_down_1), (MN_up_2, MN_down_2), ...]\"\"\"\n",
    "    multiple_strain_distributions = []\n",
    "    for i in range(len(As1)):\n",
    "        # tup: (mn_up, mn_down)\n",
    "        tup = strainDistribution(As[i], As1[i]), strainDistribution(As1[i], As[i])\n",
    "        multiple_strain_distributions.append(tup)\n",
    "    return multiple_strain_distributions\n",
    "\n",
    "def a(bars: int , diameter: int):\n",
    "    return bars * 3.14 * diameter**2 / 4\n",
    "\n",
    "\n",
    "As_list = [a(4,12),a(4,14), a(4,16)]\n",
    "As1_list = [a(2,12),a(2,14), a(2,16)]\n",
    "\n",
    "mult = create_multiple_strainDistribution(As_list,As1_list)"
   ]
  },
  {
   "cell_type": "code",
   "execution_count": 17,
   "metadata": {},
   "outputs": [
    {
     "data": {
      "image/png": "[encoded data removed]",
      "text/plain": [
       "<Figure size 864x504 with 1 Axes>"
      ]
     },
     "metadata": {
      "needs_background": "light"
     },
     "output_type": "display_data"
    }
   ],
   "source": [
    "COLORS = [\"red\",\"green\",\"blue\",\"orange\"]\n",
    "def interaction_diagram_single(dic_up,dic_down):\n",
    "    fig, ax = plt.subplots(1,1, figsize = (7, 5))\n",
    "    ax.set_xlabel('nu')\n",
    "    ax.set_ylabel('mu')\n",
    "\n",
    "    for i in range(2,6): #(1,7) when finisched\n",
    "        k = i - 2 # i -1\n",
    "        i = str(i)\n",
    "        ax.plot(dic_up[i][\"nu\"],dic_up[i][\"mu\"],dic_down[i][\"nu\"],-dic_down[i][\"mu\"],color=COLORS[k],label=i)\n",
    "        ax.legend()\n",
    "\n",
    "def interaction_diagram_multiple(\n",
    "        multiple_strainDistribution: create_multiple_strainDistribution, \n",
    "        NM=True,\n",
    "        NM_values: list = None\n",
    "    ):\n",
    "    x = \"N\" if NM else \"nu\"\n",
    "    y = \"M\" if NM else \"mu\"\n",
    "\n",
    "    fig, ax = plt.subplots(1,1, figsize = (12, 7))\n",
    "    ax.set_xlabel(x) # \"r\"$\\bf\" + x + r\"}$\"\"\n",
    "    ax.set_ylabel(y)\n",
    "    ax.grid(\"True\",which=\"both\",linestyle='dashed')\n",
    "    ax.set_title(f\"{x} - {y} diagram\", fontsize=14)\n",
    "    for area in range(len(multiple_strainDistribution)):\n",
    "        for i in range(2,6): #(1,7) when finisched #TODO \n",
    "            k = i - 2 # i -1 #togliere completamente k #TODO\n",
    "            i = str(i)\n",
    "            dic_up, dic_down = multiple_strainDistribution[area]\n",
    "            ax.plot(dic_up[i][x],dic_up[i][y],dic_down[i][x],-dic_down[i][y],color=COLORS[k])\n",
    "        #ax.plot([],[], label=f\"Area: {area}\")    \n",
    "    ax.text(\n",
    "        x=0.4, \n",
    "        y=0.5, \n",
    "        s=f\"b = {b}\\nh = {h}\\nAs   = {As_list} \\nAs1 = {As1_list} \", \n",
    "        horizontalalignment='left',\n",
    "        verticalalignment='center', \n",
    "        transform=ax.transAxes, #used to make x,y coords in global coordinates\n",
    "        bbox=dict(facecolor='grey', alpha=0.3)\n",
    "    )\n",
    "    if NM_values:\n",
    "        x_points = NM_values[0]\n",
    "        y_points = NM_values[1]\n",
    "        ax.plot(x_points, y_points,\"rs\")\n",
    "\n",
    "#interaction_diagram_single(MN_up,MN_down)\n",
    "interaction_diagram_multiple(mult, NM = True, NM_values=[[1,3],[2,6]])\n",
    "\n"
   ]
  },
  {
   "cell_type": "code",
   "execution_count": 13,
   "metadata": {},
   "outputs": [
    {
     "name": "stdout",
     "output_type": "stream",
     "text": [
      "2Ø4\n"
     ]
    }
   ],
   "source": [
    "from dataclasses import dataclass\n",
    "\n",
    "@dataclass\n",
    "class Bars:\n",
    "    n_bars: int\n",
    "    diameter: int\n",
    "\n",
    "    def a(self):\n",
    "        \"Area\"\n",
    "        return self.n_bars * 3.14 * self.diameter**2 / 4\n",
    "\n",
    "    def __str__(self):\n",
    "        \"Return a string like:'2Ø4' \"\n",
    "        return f\"{self.n_bars}Ø{self.diameter}\"\n",
    "   \n",
    "sup = Bars(2,4)\n",
    "print(sup)\n",
    "\n"
   ]
  },
  {
   "cell_type": "code",
   "execution_count": 14,
   "metadata": {},
   "outputs": [
    {
     "ename": "NameError",
     "evalue": "name 'stop' is not defined",
     "output_type": "error",
     "traceback": [
      "\u001b[1;31m---------------------------------------------------------------------------\u001b[0m",
      "\u001b[1;31mNameError\u001b[0m                                 Traceback (most recent call last)",
      "\u001b[1;32m~\\AppData\\Local\\Temp/ipykernel_22952/3957423419.py\u001b[0m in \u001b[0;36m<module>\u001b[1;34m\u001b[0m\n\u001b[1;32m----> 1\u001b[1;33m \u001b[0mstop\u001b[0m\u001b[1;33m\u001b[0m\u001b[1;33m\u001b[0m\u001b[0m\n\u001b[0m",
      "\u001b[1;31mNameError\u001b[0m: name 'stop' is not defined"
     ]
    }
   ],
   "source": [
    "stop"
   ]
  },
  {
   "cell_type": "code",
   "execution_count": null,
   "metadata": {},
   "outputs": [],
   "source": [
    "fcd = fck * 0.85 / 1.5\n",
    "\n",
    "t = (ecu-ec2)*(d+d1)/ecu # C<C50/60: 3/7 * h\n",
    "\n",
    "xi = np.linspace(1+d1/d,50,1000)\n",
    "x = xi * d\n",
    "\n",
    "es1 = - ec2 * (x - d2) / (x-t)\n",
    "es = - ec2 * (x-d) / (x-t)\n",
    "\n",
    "fyd1 = -fyk1/1.15  \n",
    "\n",
    "#x6a6b = (ec2 * d + ese * t)/(ec2 + ese)\n",
    "\n",
    "fyd = []\n",
    "for i in range(len(x)):\n",
    "    if abs(es[i]) < ese:\n",
    "        fyd.append(Es * es[i])\n",
    "    else:\n",
    "        fyd.append(- fyk/1.15)\n",
    "fyd = np.array(fyd)\n",
    "\n",
    "psi = []\n",
    "# n = 2 C<C50/60\n",
    "for i in range(len(xi)):\n",
    "    psi.append( (xi[i]**2 - 6/7*xi[i] + 125/1029) / (xi[i] - 3/7)**2 )\n",
    "psi = np.array(psi)  \n",
    "\n",
    "lamb = [] #lambda\n",
    "# n = 2 C<C50/60\n",
    "for i in range(len(xi)):\n",
    "    lamb.append( 3/14 * (2401*xi[i]**2 - 2058*xi[i] + 185 )/( 1029*xi[i]**2 - 882*xi[i] +125 ) )        \n",
    "lamb = np.array(lamb) \n",
    "\n",
    "N = b * psi * h * fcd  - fyd1*As1 + fyd * As  \n",
    "M = b * psi * h * fcd * (h/2 - lamb*h)  - fyd1*As1* (h/2 - d2) + fyd * As* (h/2 - d1)\n",
    "nu = N/(b*d*fcd)\n",
    "mu = M/(b*d**2*fcd)"
   ]
  },
  {
   "cell_type": "code",
   "execution_count": null,
   "metadata": {},
   "outputs": [],
   "source": [
    "fyd1 = []\n",
    "for i in range(len(es1)):\n",
    "    if abs(es1[i]) > ese1 and es1[i] > 0:\n",
    "        fyd1.append(fyk1/1.15)\n",
    "    elif abs(es1[i]) > ese1 and es1[i] < 0:\n",
    "        fyd1.append(-fyk1/1.15)\n",
    "    else:\n",
    "        fyd1.append(Es * es1[i])\n",
    "fyd1 = np.array(fyd1) "
   ]
  },
  {
   "cell_type": "code",
   "execution_count": null,
   "metadata": {},
   "outputs": [
    {
     "data": {
      "text/plain": [
       "0.8610284391534392"
      ]
     },
     "execution_count": 14,
     "metadata": {},
     "output_type": "execute_result"
    }
   ],
   "source": [
    "(xi[0]**2 - 6/7*xi[0] + 125/1029) / ((xi[0] - 3/7)**2)"
   ]
  },
  {
   "cell_type": "code",
   "execution_count": null,
   "metadata": {},
   "outputs": [
    {
     "data": {
      "text/plain": [
       "0.8610284391534392"
      ]
     },
     "execution_count": 15,
     "metadata": {},
     "output_type": "execute_result"
    }
   ],
   "source": [
    "1/(3*ecu) * ( 3*ecu - ec2*( (1-t/h)/(xi[0]-t/h) )**2 )"
   ]
  },
  {
   "cell_type": "code",
   "execution_count": null,
   "metadata": {},
   "outputs": [
    {
     "data": {
      "text/plain": [
       "1.0975609756097562"
      ]
     },
     "execution_count": 16,
     "metadata": {},
     "output_type": "execute_result"
    }
   ],
   "source": [
    "xi[0]"
   ]
  },
  {
   "cell_type": "code",
   "execution_count": null,
   "metadata": {},
   "outputs": [
    {
     "data": {
      "text/plain": [
       "0.442356491324326"
      ]
     },
     "execution_count": 17,
     "metadata": {},
     "output_type": "execute_result"
    }
   ],
   "source": [
    "3/14 * (2401*xi[0]**2 - 2058*xi[0] + 185 )/( 1029*xi[0]**2 - 882*xi[0] +125)"
   ]
  },
  {
   "cell_type": "code",
   "execution_count": null,
   "metadata": {},
   "outputs": [],
   "source": []
  }
 ],
 "metadata": {
  "kernelspec": {
   "display_name": "Python 3",
   "language": "python",
   "name": "python3"
  },
  "language_info": {
   "codemirror_mode": {
    "name": "ipython",
    "version": 3
   },
   "file_extension": ".py",
   "mimetype": "text/x-python",
   "name": "python",
   "nbconvert_exporter": "python",
   "pygments_lexer": "ipython3",
   "version": "3.9.7"
  }
 },
 "nbformat": 4,
 "nbformat_minor": 4
}
