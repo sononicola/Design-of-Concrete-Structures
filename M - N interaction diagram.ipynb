{
 "cells": [
  {
   "cell_type": "code",
   "execution_count": 2,
   "metadata": {},
   "outputs": [],
   "source": [
    "import numpy as np\n",
    "import matplotlib.pyplot as plt"
   ]
  },
  {
   "cell_type": "code",
   "execution_count": 1,
   "metadata": {},
   "outputs": [],
   "source": [
    "b = 400\n",
    "h = 450\n",
    "As = 1407\n",
    "As1 = 1206\n",
    "d = 410\n",
    "d1 = 40\n",
    "d2 = 40\n",
    "\n",
    "fck = 25\n",
    "fyk = 450\n",
    "fyk1 = 450\n",
    "Ec = 31475.806\n",
    "Es = 200000\n",
    "\n",
    "ese = 1.9565/1000\n",
    "ese1 = 1.9565/1000\n",
    "esu = 10/1000 # campo 1 e 2\n",
    "ecu = 3.5/1000\n",
    "ec = 3.5/1000\n",
    "ec2 = 2/1000\n",
    "\n"
   ]
  },
  {
   "cell_type": "code",
   "execution_count": 3,
   "metadata": {},
   "outputs": [
    {
     "data": {
      "text/plain": [
       "0.25925925925925924"
      ]
     },
     "execution_count": 3,
     "metadata": {},
     "output_type": "execute_result"
    }
   ],
   "source": [
    "xi23 = ecu/(ecu + esu)\n",
    "xi23"
   ]
  },
  {
   "cell_type": "code",
   "execution_count": 182,
   "metadata": {},
   "outputs": [
    {
     "data": {
      "text/plain": [
       "-0.12194818721979721"
      ]
     },
     "execution_count": 182,
     "metadata": {},
     "output_type": "execute_result"
    }
   ],
   "source": [
    "# NO\n",
    "xi2a2b = (d2/d * esu - ese1) / (esu -ese1) \n",
    "xi2a2b"
   ]
  },
  {
   "cell_type": "code",
   "execution_count": 81,
   "metadata": {},
   "outputs": [],
   "source": [
    "def storeToDict(dic,strainRange,n,m,nu,mu):\n",
    "    dic[strainRange][\"N\"] = N\n",
    "    dic[strainRange][\"M\"] = M\n",
    "    dic[strainRange][\"nu\"] = nu\n",
    "    dic[strainRange][\"mu\"] = mu\n",
    "    "
   ]
  },
  {
   "cell_type": "code",
   "execution_count": 87,
   "metadata": {},
   "outputs": [],
   "source": [
    "def strainDistribution(As,As1):\n",
    "    # per store to dict \n",
    "    global N\n",
    "    global M\n",
    "    global nu\n",
    "    global mu\n",
    "    \n",
    "    # Two concatenated dictionaries to store all values for each stain range (1-6)\n",
    "    dic = {}\n",
    "    fcd = fck * 0.85 / 1.5\n",
    "    fyd = fyk/1.15 \n",
    "    \n",
    "    # ----- CAMPO 2 -----\n",
    "    \n",
    "    strainRange = \"2\"\n",
    "    dic[strainRange]={}\n",
    "\n",
    "    xi = np.linspace(0,xi23,130)\n",
    "    x = xi * d\n",
    "    es1 = - (esu * (x - d2)) /(d - x)\n",
    "\n",
    "    fyd1 = []\n",
    "    for i in range(len(es1)):\n",
    "        if abs(es1[i]) > ese1 and es1[i] > 0:\n",
    "            fyd1.append(fyk1/1.15)\n",
    "        elif abs(es1[i]) > ese1 and es1[i] < 0:\n",
    "            fyd1.append(-fyk1/1.15)\n",
    "        else:\n",
    "            fyd1.append(Es * es1[i])\n",
    "    fyd1 = np.array(fyd1)        \n",
    "\n",
    "    psi = []\n",
    "    # n = 2 C<C50/60\n",
    "    for i in range(len(xi)):\n",
    "        if xi[i] < 1/6:\n",
    "            psi.append(xi[i]/(1-xi[i]) * esu/(3 * ec2**2) * (3 * ec2 - xi[i]/(1-xi[i]) * esu))\n",
    "        else:\n",
    "            psi.append(1 - ( ec2*(1-xi[i]) ) / ( 3*esu*xi[i] ))\n",
    "    psi = np.array(psi)  \n",
    "\n",
    "    lamb = [] #lambda\n",
    "    # n = 2 C<C50/60\n",
    "    for i in range(len(xi)):\n",
    "        if xi[i] < 1/6:\n",
    "            lamb.append( ( 4*ec2 - esu*xi[i]/(1-xi[i]) ) / ( 4*(3*ec2 - esu*xi[i]/(1-xi[i])) ) )\n",
    "        else:\n",
    "            lamb.append( ( (6*esu**2 + 4*esu*ec2 +  ec2**2)*xi[i]**2 - 2*ec2**2*xi[i] + ec2**2 - 4*esu*ec2*xi[i] ) / ( 4*esu*xi[i]*((3*esu+ec2)*xi[i] - ec2 )) )        \n",
    "    lamb[0]=0\n",
    "    lamb = np.array(lamb) \n",
    "\n",
    "    N = b * psi * x * fcd  - fyd1*As1 - fyd * As \n",
    "    M = b * psi * x * fcd * (h/2 - lamb*x)  - fyd1*As1* (h/2 - d2) + fyd * As* (h/2 - d1)\n",
    "    nu = N/(b*d*fcd)\n",
    "    mu = M/(b*d**2*fcd)\n",
    "    \n",
    "    storeToDict(dic,strainRange,N,M,nu,mu)\n",
    "    \n",
    "    # ----- CAMPO 3 -----\n",
    "    \n",
    "    \n",
    "    # ------------------------------------\n",
    "    \n",
    "    return dic"
   ]
  },
  {
   "cell_type": "code",
   "execution_count": 99,
   "metadata": {},
   "outputs": [],
   "source": [
    "# Above and below x axis: invert steel areas and change M sign in plotting function \n",
    "MN_up = strainDistribution(As,As1)\n",
    "MN_down = strainDistribution(As1,As) "
   ]
  },
  {
   "cell_type": "code",
   "execution_count": 46,
   "metadata": {},
   "outputs": [
    {
     "data": {
      "text/plain": [
       "array([0.06122501, 0.06208738, 0.06297518, 0.06388826, 0.06482645,\n",
       "       0.06578962, 0.06677758, 0.06779019, 0.06882728, 0.06988867,\n",
       "       0.07097421, 0.07208372, 0.07321703, 0.07437395, 0.07555431,\n",
       "       0.07675792, 0.07798461, 0.07923418, 0.08050645, 0.08180122,\n",
       "       0.08311829, 0.08445746, 0.08581854, 0.08720132, 0.08860559,\n",
       "       0.09003115, 0.09147776, 0.09294523, 0.09443333, 0.09594183,\n",
       "       0.09747051, 0.09901914, 0.10058748, 0.10217531, 0.10378237,\n",
       "       0.10540842, 0.10705322, 0.10871651, 0.11039804, 0.11209756,\n",
       "       0.11381479, 0.11554947, 0.11730133, 0.1190701 , 0.12085549,\n",
       "       0.12265723, 0.12447502, 0.12630859, 0.12815762, 0.13002182,\n",
       "       0.13190089, 0.13379451, 0.13570238, 0.13762417, 0.13955956,\n",
       "       0.14150822, 0.14346983, 0.14544403, 0.1474305 , 0.14942888,\n",
       "       0.15143881, 0.15345994, 0.15549191, 0.15753434, 0.15958686,\n",
       "       0.16164909, 0.16372063, 0.16580111, 0.16789012, 0.16998726,\n",
       "       0.17209211, 0.17420426, 0.17632328, 0.17844875, 0.18058022,\n",
       "       0.18271726, 0.18485942, 0.18700624, 0.18915725, 0.19131198,\n",
       "       0.19346997, 0.19563071, 0.19779372, 0.1999585 , 0.20212465,\n",
       "       0.20429214, 0.20646102, 0.20863133, 0.21080312, 0.21297642,\n",
       "       0.21515129, 0.21732776, 0.21950589, 0.22168572, 0.2238673 ,\n",
       "       0.22605068, 0.22823589, 0.230423  , 0.23261205, 0.2348031 ,\n",
       "       0.23699618, 0.23919135, 0.24138866, 0.24358816, 0.2457899 ,\n",
       "       0.24799395, 0.25020034, 0.25240913, 0.25462038, 0.25683414,\n",
       "       0.25905047, 0.26126941, 0.26349104, 0.2657154 , 0.26794255,\n",
       "       0.27017255, 0.27240546, 0.27464134, 0.27688025, 0.27912224,\n",
       "       0.28136738, 0.28361574, 0.28586737, 0.28665821, 0.28741337,\n",
       "       0.28816392, 0.28890987, 0.28965121, 0.29038795, 0.29112009])"
      ]
     },
     "execution_count": 46,
     "metadata": {},
     "output_type": "execute_result"
    }
   ],
   "source": [
    "MN_up[\"2\"][\"mu\"]"
   ]
  },
  {
   "cell_type": "code",
   "execution_count": 40,
   "metadata": {},
   "outputs": [
    {
     "data": {
      "text/plain": [
       "[<matplotlib.lines.Line2D at 0x6ffffd557850>]"
      ]
     },
     "execution_count": 40,
     "metadata": {},
     "output_type": "execute_result"
    },
    {
     "data": {
      "image/png": "[encoded data removed]",
      "text/plain": [
       "<Figure size 432x288 with 1 Axes>"
      ]
     },
     "metadata": {
      "needs_background": "light"
     },
     "output_type": "display_data"
    }
   ],
   "source": [
    "plt.plot(MN_up[\"2\"][\"N\"],MN_up[\"2\"][\"M\"],color=\"red\")"
   ]
  },
  {
   "cell_type": "code",
   "execution_count": 100,
   "metadata": {},
   "outputs": [
    {
     "data": {
      "text/plain": [
       "[<matplotlib.lines.Line2D at 0x6ffff9457950>]"
      ]
     },
     "execution_count": 100,
     "metadata": {},
     "output_type": "execute_result"
    },
    {
     "data": {
      "image/png": "[encoded data removed]",
      "text/plain": [
       "<Figure size 432x288 with 1 Axes>"
      ]
     },
     "metadata": {
      "needs_background": "light"
     },
     "output_type": "display_data"
    }
   ],
   "source": [
    "plt.plot(MN_up[\"2\"][\"nu\"],MN_up[\"2\"][\"mu\"],color=\"red\")\n",
    "\n",
    "plt.plot(MN_down[\"2\"][\"nu\"],-MN_down[\"2\"][\"mu\"],color=\"red\")"
   ]
  },
  {
   "cell_type": "code",
   "execution_count": null,
   "metadata": {},
   "outputs": [],
   "source": []
  }
 ],
 "metadata": {
  "kernelspec": {
   "display_name": "Python 3",
   "language": "python",
   "name": "python3"
  },
  "language_info": {
   "codemirror_mode": {
    "name": "ipython",
    "version": 3
   },
   "file_extension": ".py",
   "mimetype": "text/x-python",
   "name": "python",
   "nbconvert_exporter": "python",
   "pygments_lexer": "ipython3",
   "version": "3.7.7"
  }
 },
 "nbformat": 4,
 "nbformat_minor": 4
}
