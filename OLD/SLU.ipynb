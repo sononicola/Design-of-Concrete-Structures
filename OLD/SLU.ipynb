{
 "cells": [
  {
   "cell_type": "code",
   "execution_count": 3,
   "metadata": {},
   "outputs": [],
   "source": [
    "# %display latex"
   ]
  },
  {
   "cell_type": "code",
   "execution_count": 47,
   "metadata": {},
   "outputs": [],
   "source": [
    "# custom printing\n",
    "def pp(name, var, unit = '' , n = 5):\n",
    "    return show(LatexExpr(name + ' = '), var.n(digits = n), LatexExpr(r'\\;' + unit))"
   ]
  },
  {
   "cell_type": "code",
   "execution_count": 59,
   "metadata": {},
   "outputs": [
    {
     "data": {
      "text/html": [
       "<html><script type=\"math/tex; mode=display\">\\newcommand{\\Bold}[1]{\\mathbf{#1}}f_{cd} =  14.167 \\;Mpa</script></html>"
      ],
      "text/latex": [
       "\\begin{math}\n",
       "\\newcommand{\\Bold}[1]{\\mathbf{#1}}f_{cd} =  14.167 \\;Mpa\n",
       "\\end{math}"
      ],
      "text/plain": [
       "f_{cd} =  14.167 \\;Mpa"
      ]
     },
     "metadata": {},
     "output_type": "display_data"
    },
    {
     "data": {
      "text/html": [
       "<html><script type=\"math/tex; mode=display\">\\newcommand{\\Bold}[1]{\\mathbf{#1}}f_{cm} =  33.000 \\;Mpa</script></html>"
      ],
      "text/latex": [
       "\\begin{math}\n",
       "\\newcommand{\\Bold}[1]{\\mathbf{#1}}f_{cm} =  33.000 \\;Mpa\n",
       "\\end{math}"
      ],
      "text/plain": [
       "f_{cm} =  33.000 \\;Mpa"
      ]
     },
     "metadata": {},
     "output_type": "display_data"
    },
    {
     "data": {
      "text/html": [
       "<html><script type=\"math/tex; mode=display\">\\newcommand{\\Bold}[1]{\\mathbf{#1}}E_{cm} =  31476. \\;Mpa</script></html>"
      ],
      "text/latex": [
       "\\begin{math}\n",
       "\\newcommand{\\Bold}[1]{\\mathbf{#1}}E_{cm} =  31476. \\;Mpa\n",
       "\\end{math}"
      ],
      "text/plain": [
       "E_{cm} =  31476. \\;Mpa"
      ]
     },
     "metadata": {},
     "output_type": "display_data"
    }
   ],
   "source": [
    "fck = 25\n",
    "rck = 30\n",
    "alpha_cc = 0.85\n",
    "gamma_c = 1.5\n",
    "ec = 3.5/1000\n",
    "ec2 = 2/1000\n",
    "\n",
    "\n",
    "fcd = alpha_cc * fck / gamma_c\n",
    "pp('f_{cd}',fcd,'Mpa')\n",
    "\n",
    "fcm = fck + 8\n",
    "pp('f_{cm}',fcm,'Mpa')\n",
    "\n",
    "Ecm = 22000 * (fcm/10)**0.3\n",
    "pp('E_{cm}',Ecm,'Mpa')"
   ]
  },
  {
   "cell_type": "code",
   "execution_count": 60,
   "metadata": {},
   "outputs": [
    {
     "data": {
      "text/html": [
       "<html><script type=\"math/tex; mode=display\">\\newcommand{\\Bold}[1]{\\mathbf{#1}}f_{yd} =  391.30 \\;Mpa</script></html>"
      ],
      "text/latex": [
       "\\begin{math}\n",
       "\\newcommand{\\Bold}[1]{\\mathbf{#1}}f_{yd} =  391.30 \\;Mpa\n",
       "\\end{math}"
      ],
      "text/plain": [
       "f_{yd} =  391.30 \\;Mpa"
      ]
     },
     "metadata": {},
     "output_type": "display_data"
    },
    {
     "data": {
      "text/html": [
       "<html><script type=\"math/tex; mode=display\">\\newcommand{\\Bold}[1]{\\mathbf{#1}}\\varepsilon_{se} =  1.8634 \\;‰</script></html>"
      ],
      "text/latex": [
       "\\begin{math}\n",
       "\\newcommand{\\Bold}[1]{\\mathbf{#1}}\\varepsilon_{se} =  1.8634 \\;‰\n",
       "\\end{math}"
      ],
      "text/plain": [
       "\\varepsilon_{se} =  1.8634 \\;‰"
      ]
     },
     "metadata": {},
     "output_type": "display_data"
    }
   ],
   "source": [
    "fyk = 450\n",
    "fyk1 = 450\n",
    "gamma_s = 1.15\n",
    "Es = 210000\n",
    "esu = 10/1000\n",
    "\n",
    "fyd = fyk / gamma_s\n",
    "pp('f_{yd}',fyd,'Mpa')\n",
    "\n",
    "ese = fyd / Es\n",
    "pp(r'\\varepsilon_{se}',ese*1000,r'‰')"
   ]
  },
  {
   "cell_type": "code",
   "execution_count": null,
   "metadata": {},
   "outputs": [],
   "source": [
    "d1 = 40\n",
    "d2 = 40\n",
    "beta = 0.3"
   ]
  }
 ],
 "metadata": {
  "kernelspec": {
   "display_name": "SageMath 9.2",
   "language": "sage",
   "name": "sagemath"
  },
  "language_info": {
   "codemirror_mode": {
    "name": "ipython",
    "version": 3
   },
   "file_extension": ".py",
   "mimetype": "text/x-python",
   "name": "python",
   "nbconvert_exporter": "python",
   "pygments_lexer": "ipython3",
   "version": "3.7.7"
  }
 },
 "nbformat": 4,
 "nbformat_minor": 4
}
