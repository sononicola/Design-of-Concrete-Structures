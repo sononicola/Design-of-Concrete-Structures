{
 "cells": [
  {
   "cell_type": "code",
   "execution_count": 2,
   "metadata": {},
   "outputs": [
    {
     "data": {
      "text/plain": [
       "(h1, h2, b1, b2)"
      ]
     },
     "execution_count": 2,
     "metadata": {},
     "output_type": "execute_result"
    }
   ],
   "source": [
    "var('h1 h2 b1 b2')"
   ]
  },
  {
   "cell_type": "markdown",
   "metadata": {},
   "source": [
    "Baricentro"
   ]
  },
  {
   "cell_type": "code",
   "execution_count": 3,
   "metadata": {},
   "outputs": [
    {
     "data": {
      "text/html": [
       "<html><script type=\"math/tex; mode=display\">\\newcommand{\\Bold}[1]{\\mathbf{#1}}\\verb|yg|\\phantom{\\verb!x!}\\verb|=| \\frac{b_{1} {\\left(h_{1} + 2 \\, h_{2}\\right)} h_{1} + b_{2} h_{2}^{2}}{2 \\, {\\left(b_{1} h_{1} + b_{2} h_{2}\\right)}}</script></html>"
      ],
      "text/latex": [
       "\\begin{math}\n",
       "\\newcommand{\\Bold}[1]{\\mathbf{#1}}\\verb|yg|\\phantom{\\verb!x!}\\verb|=| \\frac{b_{1} {\\left(h_{1} + 2 \\, h_{2}\\right)} h_{1} + b_{2} h_{2}^{2}}{2 \\, {\\left(b_{1} h_{1} + b_{2} h_{2}\\right)}}\n",
       "\\end{math}"
      ],
      "text/plain": [
       "'yg = ' 1/2*(b1*(h1 + 2*h2)*h1 + b2*h2^2)/(b1*h1 + b2*h2)"
      ]
     },
     "metadata": {},
     "output_type": "display_data"
    }
   ],
   "source": [
    "yg = (h1*b1*(h2+h1/2)+h2*b2*(h2/2))/(h1*b1+h2*b2)\n",
    "show('yg = ', yg)"
   ]
  },
  {
   "cell_type": "code",
   "execution_count": 9,
   "metadata": {},
   "outputs": [
    {
     "data": {
      "text/plain": [
       "16.4"
      ]
     },
     "execution_count": 9,
     "metadata": {},
     "output_type": "execute_result"
    }
   ],
   "source": [
    "yg(\n",
    "    h1 = 5, \n",
    "    h2 = 20,\n",
    "    b1 = 50, # interasse travetti\n",
    "    b2 = 12 \n",
    ").n(digits=3)"
   ]
  },
  {
   "cell_type": "code",
   "execution_count": 5,
   "metadata": {},
   "outputs": [
    {
     "data": {
      "text/plain": [
       "8.62"
      ]
     },
     "execution_count": 5,
     "metadata": {},
     "output_type": "execute_result"
    }
   ],
   "source": [
    "25-_"
   ]
  },
  {
   "cell_type": "markdown",
   "metadata": {},
   "source": [
    "I rispetto baricentro"
   ]
  },
  {
   "cell_type": "code",
   "execution_count": 6,
   "metadata": {},
   "outputs": [
    {
     "data": {
      "text/html": [
       "<html><script type=\"math/tex; mode=display\">\\newcommand{\\Bold}[1]{\\mathbf{#1}}\\frac{1}{4} \\, b_{1} {\\left(h_{1} + 2 \\, h_{2} - \\frac{b_{1} {\\left(h_{1} + 2 \\, h_{2}\\right)} h_{1} + b_{2} h_{2}^{2}}{b_{1} h_{1} + b_{2} h_{2}}\\right)}^{2} h_{1} + \\frac{1}{12} \\, b_{1} h_{1}^{3} + \\frac{1}{4} \\, b_{2} {\\left(h_{2} - \\frac{b_{1} {\\left(h_{1} + 2 \\, h_{2}\\right)} h_{1} + b_{2} h_{2}^{2}}{b_{1} h_{1} + b_{2} h_{2}}\\right)}^{2} h_{2} + \\frac{1}{12} \\, b_{2} h_{2}^{3}</script></html>"
      ],
      "text/latex": [
       "\\begin{math}\n",
       "\\newcommand{\\Bold}[1]{\\mathbf{#1}}\\frac{1}{4} \\, b_{1} {\\left(h_{1} + 2 \\, h_{2} - \\frac{b_{1} {\\left(h_{1} + 2 \\, h_{2}\\right)} h_{1} + b_{2} h_{2}^{2}}{b_{1} h_{1} + b_{2} h_{2}}\\right)}^{2} h_{1} + \\frac{1}{12} \\, b_{1} h_{1}^{3} + \\frac{1}{4} \\, b_{2} {\\left(h_{2} - \\frac{b_{1} {\\left(h_{1} + 2 \\, h_{2}\\right)} h_{1} + b_{2} h_{2}^{2}}{b_{1} h_{1} + b_{2} h_{2}}\\right)}^{2} h_{2} + \\frac{1}{12} \\, b_{2} h_{2}^{3}\n",
       "\\end{math}"
      ],
      "text/plain": [
       "1/4*b1*(h1 + 2*h2 - (b1*(h1 + 2*h2)*h1 + b2*h2^2)/(b1*h1 + b2*h2))^2*h1 + 1/12*b1*h1^3 + 1/4*b2*(h2 - (b1*(h1 + 2*h2)*h1 + b2*h2^2)/(b1*h1 + b2*h2))^2*h2 + 1/12*b2*h2^3"
      ]
     },
     "metadata": {},
     "output_type": "display_data"
    }
   ],
   "source": [
    "Igx = b1*h1**3/12 + h1*b1*(h2+(h1/2)-yg)**2 + b2*h2**3/12+ h2*b2*((h2/2)-yg)**2\n",
    "show(Igx)"
   ]
  },
  {
   "cell_type": "code",
   "execution_count": 7,
   "metadata": {},
   "outputs": [
    {
     "data": {
      "text/plain": [
       "27654."
      ]
     },
     "execution_count": 7,
     "metadata": {},
     "output_type": "execute_result"
    }
   ],
   "source": [
    "Igx(\n",
    "    h1 = 5, \n",
    "    h2 = 20,\n",
    "    b1 = 50, # interasse travetti\n",
    "    b2 = 12 \n",
    ").n(digits=5)"
   ]
  },
  {
   "cell_type": "code",
   "execution_count": 8,
   "metadata": {},
   "outputs": [
    {
     "data": {
      "text/plain": [
       "13827."
      ]
     },
     "execution_count": 8,
     "metadata": {},
     "output_type": "execute_result"
    }
   ],
   "source": [
    "_/2\n"
   ]
  },
  {
   "cell_type": "code",
   "execution_count": 12,
   "metadata": {},
   "outputs": [],
   "source": [
    "b2 = 12\n",
    "b1 = 50\n",
    "alpha = b2/b1"
   ]
  },
  {
   "cell_type": "code",
   "execution_count": 13,
   "metadata": {},
   "outputs": [
    {
     "data": {
      "text/plain": [
       "6/25"
      ]
     },
     "execution_count": 13,
     "metadata": {},
     "output_type": "execute_result"
    }
   ],
   "source": [
    "alpha"
   ]
  },
  {
   "cell_type": "code",
   "execution_count": 14,
   "metadata": {},
   "outputs": [
    {
     "data": {
      "text/plain": [
       "12"
      ]
     },
     "execution_count": 14,
     "metadata": {},
     "output_type": "execute_result"
    }
   ],
   "source": [
    "b2"
   ]
  },
  {
   "cell_type": "code",
   "execution_count": null,
   "metadata": {},
   "outputs": [],
   "source": []
  }
 ],
 "metadata": {
  "kernelspec": {
   "display_name": "SageMath 9.2",
   "language": "sage",
   "name": "sagemath"
  },
  "language_info": {
   "codemirror_mode": {
    "name": "ipython",
    "version": 3
   },
   "file_extension": ".py",
   "mimetype": "text/x-python",
   "name": "python",
   "nbconvert_exporter": "python",
   "pygments_lexer": "ipython3",
   "version": "3.7.7"
  }
 },
 "nbformat": 4,
 "nbformat_minor": 4
}
