{
 "cells": [
  {
   "cell_type": "code",
   "execution_count": 2,
   "metadata": {},
   "outputs": [],
   "source": [
    "# custom printing\n",
    "def pp(name, var, n = 5):\n",
    "    return show(LatexExpr(name + \" = \"), var.n(digits = n))"
   ]
  },
  {
   "cell_type": "markdown",
   "metadata": {},
   "source": [
    "## Semplice armatura - SLE"
   ]
  },
  {
   "cell_type": "code",
   "execution_count": 3,
   "metadata": {},
   "outputs": [],
   "source": [
    "sigmacr = 21\n",
    "sigmasr = 360\n",
    "n = 15\n",
    "M = 450000000 # Nmm"
   ]
  },
  {
   "cell_type": "markdown",
   "metadata": {},
   "source": [
    "#### Progetto -- incognite $d$ e $A_s$ -- fisso $b$"
   ]
  },
  {
   "cell_type": "code",
   "execution_count": 4,
   "metadata": {},
   "outputs": [
    {
     "data": {
      "text/html": [
       "<html><script type=\"math/tex; mode=display\">\\newcommand{\\Bold}[1]{\\mathbf{#1}}d =  466.38</script></html>"
      ],
      "text/latex": [
       "\\begin{math}\n",
       "\\newcommand{\\Bold}[1]{\\mathbf{#1}}d =  466.38\n",
       "\\end{math}"
      ],
      "text/plain": [
       "d =  466.38"
      ]
     },
     "metadata": {},
     "output_type": "display_data"
    },
    {
     "data": {
      "text/html": [
       "<html><script type=\"math/tex; mode=display\">\\newcommand{\\Bold}[1]{\\mathbf{#1}}A_s =  3174.0</script></html>"
      ],
      "text/latex": [
       "\\begin{math}\n",
       "\\newcommand{\\Bold}[1]{\\mathbf{#1}}A_s =  3174.0\n",
       "\\end{math}"
      ],
      "text/plain": [
       "A_s =  3174.0"
      ]
     },
     "metadata": {},
     "output_type": "display_data"
    }
   ],
   "source": [
    "b = 500 # mm\n",
    "\n",
    "# ---\n",
    "\n",
    "s = n * sigmacr / (n*sigmacr + sigmasr)\n",
    "r = sqrt(2/(sigmacr * s * (1-s/3)))  # oppure sceglierlo a mano guardando le tabelle\n",
    "t = 1 / (sigmasr * r * (1-s/3)) # oppure sceglierlo a mano guardando le tabelle\n",
    "\n",
    "# ---\n",
    "d = r*sqrt(M/b) \n",
    "pp(r\"d\",d)\n",
    "\n",
    "As = t*sqrt(M*b) \n",
    "pp(r\"A_s\",As)"
   ]
  },
  {
   "cell_type": "markdown",
   "metadata": {},
   "source": [
    "#### Progetto -- incognite $b$ e $A_s$ -- fisso $d$"
   ]
  },
  {
   "cell_type": "code",
   "execution_count": 5,
   "metadata": {},
   "outputs": [],
   "source": [
    "#todo"
   ]
  },
  {
   "cell_type": "markdown",
   "metadata": {},
   "source": [
    "#### Verifica semplice armatura SLE "
   ]
  },
  {
   "cell_type": "code",
   "execution_count": 6,
   "metadata": {},
   "outputs": [
    {
     "data": {
      "text/html": [
       "<html><script type=\"math/tex; mode=display\">\\newcommand{\\Bold}[1]{\\mathbf{#1}}x =  228.37</script></html>"
      ],
      "text/latex": [
       "\\begin{math}\n",
       "\\newcommand{\\Bold}[1]{\\mathbf{#1}}x =  228.37\n",
       "\\end{math}"
      ],
      "text/plain": [
       "x =  228.37"
      ]
     },
     "metadata": {},
     "output_type": "display_data"
    },
    {
     "data": {
      "text/html": [
       "<html><script type=\"math/tex; mode=display\">\\newcommand{\\Bold}[1]{\\mathbf{#1}}\\sigma_c =  18.595</script></html>"
      ],
      "text/latex": [
       "\\begin{math}\n",
       "\\newcommand{\\Bold}[1]{\\mathbf{#1}}\\sigma_c =  18.595\n",
       "\\end{math}"
      ],
      "text/plain": [
       "\\sigma_c =  18.595"
      ]
     },
     "metadata": {},
     "output_type": "display_data"
    },
    {
     "data": {
      "text/html": [
       "<html><script type=\"math/tex; mode=display\">\\newcommand{\\Bold}[1]{\\mathbf{#1}}\\sigma_c^R =  21.000</script></html>"
      ],
      "text/latex": [
       "\\begin{math}\n",
       "\\newcommand{\\Bold}[1]{\\mathbf{#1}}\\sigma_c^R =  21.000\n",
       "\\end{math}"
      ],
      "text/plain": [
       "\\sigma_c^R =  21.000"
      ]
     },
     "metadata": {},
     "output_type": "display_data"
    },
    {
     "data": {
      "text/html": [
       "<html><script type=\"math/tex; mode=display\">\\newcommand{\\Bold}[1]{\\mathbf{#1}}\\mathrm{True}</script></html>"
      ],
      "text/latex": [
       "\\begin{math}\n",
       "\\newcommand{\\Bold}[1]{\\mathbf{#1}}\\mathrm{True}\n",
       "\\end{math}"
      ],
      "text/plain": [
       "True"
      ]
     },
     "metadata": {},
     "output_type": "display_data"
    },
    {
     "data": {
      "text/html": [
       "<html><script type=\"math/tex; mode=display\">\\newcommand{\\Bold}[1]{\\mathbf{#1}}\\sigma_s =  331.76</script></html>"
      ],
      "text/latex": [
       "\\begin{math}\n",
       "\\newcommand{\\Bold}[1]{\\mathbf{#1}}\\sigma_s =  331.76\n",
       "\\end{math}"
      ],
      "text/plain": [
       "\\sigma_s =  331.76"
      ]
     },
     "metadata": {},
     "output_type": "display_data"
    },
    {
     "data": {
      "text/html": [
       "<html><script type=\"math/tex; mode=display\">\\newcommand{\\Bold}[1]{\\mathbf{#1}}\\sigma_s^R =  360.00</script></html>"
      ],
      "text/latex": [
       "\\begin{math}\n",
       "\\newcommand{\\Bold}[1]{\\mathbf{#1}}\\sigma_s^R =  360.00\n",
       "\\end{math}"
      ],
      "text/plain": [
       "\\sigma_s^R =  360.00"
      ]
     },
     "metadata": {},
     "output_type": "display_data"
    },
    {
     "data": {
      "text/html": [
       "<html><script type=\"math/tex; mode=display\">\\newcommand{\\Bold}[1]{\\mathbf{#1}}\\mathrm{True}</script></html>"
      ],
      "text/latex": [
       "\\begin{math}\n",
       "\\newcommand{\\Bold}[1]{\\mathbf{#1}}\\mathrm{True}\n",
       "\\end{math}"
      ],
      "text/plain": [
       "True"
      ]
     },
     "metadata": {},
     "output_type": "display_data"
    },
    {
     "name": "stdout",
     "output_type": "stream",
     "text": [
      "Dal diametro calcolarsi d1 e poi h = d + d1\n"
     ]
    }
   ],
   "source": [
    "# modificare in base le incognite che si avevano\n",
    "# b = 500 \n",
    "d = 500\n",
    "As = 3200\n",
    "\n",
    "# ---\n",
    "\n",
    "#Asse neutro:\n",
    "x = n * As / b * (-1 + sqrt(1+2*b*d/(n*As)))\n",
    "pp(r\"x\",x)\n",
    "\n",
    "sigmac = 2 * M / (b*x*(d-x/3))\n",
    "pp(r\"\\sigma_c\",sigmac)\n",
    "pp(r\"\\sigma_c^R\",sigmacr)\n",
    "show(sigmac.n() < sigmacr)\n",
    "\n",
    "sigmas = n * sigmac * (d - x) / x\n",
    "pp(r\"\\sigma_s\",sigmas)\n",
    "pp(r\"\\sigma_s^R\",sigmasr)\n",
    "show(sigmas.n() < sigmasr)\n",
    "\n",
    "print(\"Dal diametro calcolarsi d1 e poi h = d + d1\")"
   ]
  },
  {
   "cell_type": "markdown",
   "metadata": {},
   "source": [
    "## Doppia Armatura - SLE"
   ]
  },
  {
   "cell_type": "code",
   "execution_count": 7,
   "metadata": {},
   "outputs": [],
   "source": [
    "sigmacr = 18\n",
    "sigmasr = 360\n",
    "sigmasr1 = 360\n",
    "n = 15\n",
    "M = 270000000 # Nmm"
   ]
  },
  {
   "cell_type": "markdown",
   "metadata": {},
   "source": [
    "#### Progetto -- incognite $d$ e $A_s$ -- fisso $\\beta = \\frac{A_S^\\prime}{A_s}$,   $d^{\\prime\\prime}$ (oppure $\\delta^{\\prime\\prime} = \\frac{d^{\\prime\\prime}}{d}$)  e  $b$ "
   ]
  },
  {
   "cell_type": "code",
   "execution_count": 8,
   "metadata": {},
   "outputs": [
    {
     "data": {
      "text/html": [
       "<html><script type=\"math/tex; mode=display\">\\newcommand{\\Bold}[1]{\\mathbf{#1}}s =  0.42857</script></html>"
      ],
      "text/latex": [
       "\\begin{math}\n",
       "\\newcommand{\\Bold}[1]{\\mathbf{#1}}s =  0.42857\n",
       "\\end{math}"
      ],
      "text/plain": [
       "s =  0.42857"
      ]
     },
     "metadata": {},
     "output_type": "display_data"
    },
    {
     "data": {
      "text/html": [
       "<html><script type=\"math/tex; mode=display\">\\newcommand{\\Bold}[1]{\\mathbf{#1}}r^\\prime =  0.46093</script></html>"
      ],
      "text/latex": [
       "\\begin{math}\n",
       "\\newcommand{\\Bold}[1]{\\mathbf{#1}}r^\\prime =  0.46093\n",
       "\\end{math}"
      ],
      "text/plain": [
       "r^\\prime =  0.46093"
      ]
     },
     "metadata": {},
     "output_type": "display_data"
    },
    {
     "data": {
      "text/html": [
       "<html><script type=\"math/tex; mode=display\">\\newcommand{\\Bold}[1]{\\mathbf{#1}}t^\\prime =  0.0069313</script></html>"
      ],
      "text/latex": [
       "\\begin{math}\n",
       "\\newcommand{\\Bold}[1]{\\mathbf{#1}}t^\\prime =  0.0069313\n",
       "\\end{math}"
      ],
      "text/plain": [
       "t^\\prime =  0.0069313"
      ]
     },
     "metadata": {},
     "output_type": "display_data"
    },
    {
     "data": {
      "text/html": [
       "<html><script type=\"math/tex; mode=display\">\\newcommand{\\Bold}[1]{\\mathbf{#1}}d =  357.</script></html>"
      ],
      "text/latex": [
       "\\begin{math}\n",
       "\\newcommand{\\Bold}[1]{\\mathbf{#1}}d =  357.\n",
       "\\end{math}"
      ],
      "text/plain": [
       "d =  357."
      ]
     },
     "metadata": {},
     "output_type": "display_data"
    },
    {
     "data": {
      "text/html": [
       "<html><script type=\"math/tex; mode=display\">\\newcommand{\\Bold}[1]{\\mathbf{#1}}A_s =  2416.0</script></html>"
      ],
      "text/latex": [
       "\\begin{math}\n",
       "\\newcommand{\\Bold}[1]{\\mathbf{#1}}A_s =  2416.0\n",
       "\\end{math}"
      ],
      "text/plain": [
       "A_s =  2416.0"
      ]
     },
     "metadata": {},
     "output_type": "display_data"
    },
    {
     "data": {
      "text/html": [
       "<html><script type=\"math/tex; mode=display\">\\newcommand{\\Bold}[1]{\\mathbf{#1}}A_s^\\prime =  1208.0</script></html>"
      ],
      "text/latex": [
       "\\begin{math}\n",
       "\\newcommand{\\Bold}[1]{\\mathbf{#1}}A_s^\\prime =  1208.0\n",
       "\\end{math}"
      ],
      "text/plain": [
       "A_s^\\prime =  1208.0"
      ]
     },
     "metadata": {},
     "output_type": "display_data"
    }
   ],
   "source": [
    "beta = .5 \n",
    "d2 = 40 # verificare poi che delta2 = .1 \n",
    "delta2=.1\n",
    "b = 450 #mm\n",
    "\n",
    "# ---\n",
    "\n",
    "#r1 e t1 al massimo del calcestruzzo oppure li scelgo io dalle tabelle\n",
    "s = n * sigmacr / (n*sigmacr + sigmasr)\n",
    "den = 1 + (s-delta2)/(1-s) * (beta*(s/3 - delta2))/(1 - s/3)\n",
    "r1 = sqrt( 2/(sigmacr * s * (1 - s/3)) )  *  sqrt( (1 - beta * ((s-delta2)/(1-s))) / den )\n",
    "t1 = 1 / (sigmasr * r1 * (1-s/3) * den)\n",
    "\n",
    "pp(r\"s\",s)\n",
    "pp(r\"r^\\prime\",r1)\n",
    "pp(r\"t^\\prime\",t1)\n",
    "\n",
    "# ---\n",
    "\n",
    "d = r1*sqrt(M/b) \n",
    "pp(r\"d\",d,3)\n",
    "\n",
    "As = t1*sqrt(M*b) \n",
    "pp(r\"A_s\",As)\n",
    "\n",
    "As1 = As * beta\n",
    "pp(r\"A_s^\\prime\",As1)"
   ]
  },
  {
   "cell_type": "markdown",
   "metadata": {},
   "source": [
    "#### Progetto -- incognite $b$ e $A_s$ -- fisso $\\beta = \\frac{A_S^\\prime}{A_s}$,   $d^{\\prime\\prime}$ (oppure $\\delta^{\\prime\\prime} = \\frac{d^{\\prime\\prime}}{d}$)  e  $d$ "
   ]
  },
  {
   "cell_type": "code",
   "execution_count": null,
   "metadata": {},
   "outputs": [],
   "source": []
  },
  {
   "cell_type": "markdown",
   "metadata": {},
   "source": [
    "#### Verifica doppia armatura - SLE"
   ]
  },
  {
   "cell_type": "code",
   "execution_count": 25,
   "metadata": {},
   "outputs": [
    {
     "data": {
      "text/plain": [
       "400"
      ]
     },
     "execution_count": 25,
     "metadata": {},
     "output_type": "execute_result"
    }
   ],
   "source": [
    "d+d1"
   ]
  },
  {
   "cell_type": "code",
   "execution_count": 23,
   "metadata": {},
   "outputs": [
    {
     "data": {
      "text/plain": [
       "161.294606377978"
      ]
     },
     "execution_count": 23,
     "metadata": {},
     "output_type": "execute_result"
    }
   ],
   "source": [
    "n*(As+As1)/(d+d1) * (-1 + sqrt(1+ (2*(d+d1)*(As1*d2 + As*d))/(n*(As + As1)**2))).n()"
   ]
  },
  {
   "cell_type": "code",
   "execution_count": 12,
   "metadata": {},
   "outputs": [
    {
     "data": {
      "text/html": [
       "<html><script type=\"math/tex; mode=display\">\\newcommand{\\Bold}[1]{\\mathbf{#1}}x =  156.21</script></html>"
      ],
      "text/latex": [
       "\\begin{math}\n",
       "\\newcommand{\\Bold}[1]{\\mathbf{#1}}x =  156.21\n",
       "\\end{math}"
      ],
      "text/plain": [
       "x =  156.21"
      ]
     },
     "metadata": {},
     "output_type": "display_data"
    },
    {
     "data": {
      "text/html": [
       "<html><script type=\"math/tex; mode=display\">\\newcommand{\\Bold}[1]{\\mathbf{#1}}\\sigma_c =  17.634</script></html>"
      ],
      "text/latex": [
       "\\begin{math}\n",
       "\\newcommand{\\Bold}[1]{\\mathbf{#1}}\\sigma_c =  17.634\n",
       "\\end{math}"
      ],
      "text/plain": [
       "\\sigma_c =  17.634"
      ]
     },
     "metadata": {},
     "output_type": "display_data"
    },
    {
     "data": {
      "text/html": [
       "<html><script type=\"math/tex; mode=display\">\\newcommand{\\Bold}[1]{\\mathbf{#1}}\\sigma_c^R =  18.000</script></html>"
      ],
      "text/latex": [
       "\\begin{math}\n",
       "\\newcommand{\\Bold}[1]{\\mathbf{#1}}\\sigma_c^R =  18.000\n",
       "\\end{math}"
      ],
      "text/plain": [
       "\\sigma_c^R =  18.000"
      ]
     },
     "metadata": {},
     "output_type": "display_data"
    },
    {
     "data": {
      "text/html": [
       "<html><script type=\"math/tex; mode=display\">\\newcommand{\\Bold}[1]{\\mathbf{#1}}\\mathrm{True}</script></html>"
      ],
      "text/latex": [
       "\\begin{math}\n",
       "\\newcommand{\\Bold}[1]{\\mathbf{#1}}\\mathrm{True}\n",
       "\\end{math}"
      ],
      "text/plain": [
       "True"
      ]
     },
     "metadata": {},
     "output_type": "display_data"
    },
    {
     "data": {
      "text/html": [
       "<html><script type=\"math/tex; mode=display\">\\newcommand{\\Bold}[1]{\\mathbf{#1}}\\sigma_s =  345.06</script></html>"
      ],
      "text/latex": [
       "\\begin{math}\n",
       "\\newcommand{\\Bold}[1]{\\mathbf{#1}}\\sigma_s =  345.06\n",
       "\\end{math}"
      ],
      "text/plain": [
       "\\sigma_s =  345.06"
      ]
     },
     "metadata": {},
     "output_type": "display_data"
    },
    {
     "data": {
      "text/html": [
       "<html><script type=\"math/tex; mode=display\">\\newcommand{\\Bold}[1]{\\mathbf{#1}}\\sigma_s^R =  360.00</script></html>"
      ],
      "text/latex": [
       "\\begin{math}\n",
       "\\newcommand{\\Bold}[1]{\\mathbf{#1}}\\sigma_s^R =  360.00\n",
       "\\end{math}"
      ],
      "text/plain": [
       "\\sigma_s^R =  360.00"
      ]
     },
     "metadata": {},
     "output_type": "display_data"
    },
    {
     "data": {
      "text/html": [
       "<html><script type=\"math/tex; mode=display\">\\newcommand{\\Bold}[1]{\\mathbf{#1}}\\mathrm{True}</script></html>"
      ],
      "text/latex": [
       "\\begin{math}\n",
       "\\newcommand{\\Bold}[1]{\\mathbf{#1}}\\mathrm{True}\n",
       "\\end{math}"
      ],
      "text/plain": [
       "True"
      ]
     },
     "metadata": {},
     "output_type": "display_data"
    },
    {
     "data": {
      "text/html": [
       "<html><script type=\"math/tex; mode=display\">\\newcommand{\\Bold}[1]{\\mathbf{#1}}\\sigma_s^\\prime =  196.77</script></html>"
      ],
      "text/latex": [
       "\\begin{math}\n",
       "\\newcommand{\\Bold}[1]{\\mathbf{#1}}\\sigma_s^\\prime =  196.77\n",
       "\\end{math}"
      ],
      "text/plain": [
       "\\sigma_s^\\prime =  196.77"
      ]
     },
     "metadata": {},
     "output_type": "display_data"
    },
    {
     "data": {
      "text/html": [
       "<html><script type=\"math/tex; mode=display\">\\newcommand{\\Bold}[1]{\\mathbf{#1}}\\sigma_s^R =  360.00</script></html>"
      ],
      "text/latex": [
       "\\begin{math}\n",
       "\\newcommand{\\Bold}[1]{\\mathbf{#1}}\\sigma_s^R =  360.00\n",
       "\\end{math}"
      ],
      "text/plain": [
       "\\sigma_s^R =  360.00"
      ]
     },
     "metadata": {},
     "output_type": "display_data"
    },
    {
     "data": {
      "text/html": [
       "<html><script type=\"math/tex; mode=display\">\\newcommand{\\Bold}[1]{\\mathbf{#1}}\\mathrm{True}</script></html>"
      ],
      "text/latex": [
       "\\begin{math}\n",
       "\\newcommand{\\Bold}[1]{\\mathbf{#1}}\\mathrm{True}\n",
       "\\end{math}"
      ],
      "text/plain": [
       "True"
      ]
     },
     "metadata": {},
     "output_type": "display_data"
    }
   ],
   "source": [
    "# modificare in base le incognite che si avevano\n",
    "# b = 500 \n",
    "d = 360\n",
    "As = 2513\n",
    "As1 = 1257\n",
    "# verificare che ci stiano le barre!\n",
    "\n",
    "# ---\n",
    "\n",
    "#Asse neutro: verifica che sia dentro la sezione \n",
    "x = n*(As+As1)/b * (-1 + sqrt(1+ (2*b*(As1*d2 + As*d))/(n*(As + As1)**2)))\n",
    "pp(r\"x\",x)\n",
    "\n",
    "sigmac = M*x / (1/2 * b*x**2 * (d-x/3) + n*As1*(x-d2)*(d-d2))\n",
    "pp(r\"\\sigma_c\",sigmac)\n",
    "pp(r\"\\sigma_c^R\",sigmacr)\n",
    "show(sigmac.n() < sigmacr)\n",
    "\n",
    "sigmas = n * sigmac * (d - x) / x\n",
    "pp(r\"\\sigma_s\",sigmas)\n",
    "pp(r\"\\sigma_s^R\",sigmasr)\n",
    "show(sigmas.n() < sigmasr)\n",
    "\n",
    "sigmas1 = n * sigmac * (x - d2) / x\n",
    "pp(r\"\\sigma_s^\\prime\",sigmas1)\n",
    "pp(r\"\\sigma_s^R\",sigmasr1)\n",
    "show(sigmas1.n() < sigmasr1)"
   ]
  },
  {
   "cell_type": "code",
   "execution_count": null,
   "metadata": {},
   "outputs": [],
   "source": []
  },
  {
   "cell_type": "code",
   "execution_count": 10,
   "metadata": {},
   "outputs": [
    {
     "data": {
      "text/html": [
       "<html><script type=\"math/tex; mode=display\">\\newcommand{\\Bold}[1]{\\mathbf{#1}}d =  360.</script></html>"
      ],
      "text/latex": [
       "\\begin{math}\n",
       "\\newcommand{\\Bold}[1]{\\mathbf{#1}}d =  360.\n",
       "\\end{math}"
      ],
      "text/plain": [
       "d =  360."
      ]
     },
     "metadata": {},
     "output_type": "display_data"
    },
    {
     "data": {
      "text/html": [
       "<html><script type=\"math/tex; mode=display\">\\newcommand{\\Bold}[1]{\\mathbf{#1}}d^{\\prime\\prime} =  40.0</script></html>"
      ],
      "text/latex": [
       "\\begin{math}\n",
       "\\newcommand{\\Bold}[1]{\\mathbf{#1}}d^{\\prime\\prime} =  40.0\n",
       "\\end{math}"
      ],
      "text/plain": [
       "d^{\\prime\\prime} =  40.0"
      ]
     },
     "metadata": {},
     "output_type": "display_data"
    },
    {
     "data": {
      "text/html": [
       "<html><script type=\"math/tex; mode=display\">\\newcommand{\\Bold}[1]{\\mathbf{#1}}\\delta^{\\prime\\prime} =  0.11111</script></html>"
      ],
      "text/latex": [
       "\\begin{math}\n",
       "\\newcommand{\\Bold}[1]{\\mathbf{#1}}\\delta^{\\prime\\prime} =  0.11111\n",
       "\\end{math}"
      ],
      "text/plain": [
       "\\delta^{\\prime\\prime} =  0.11111"
      ]
     },
     "metadata": {},
     "output_type": "display_data"
    },
    {
     "data": {
      "text/html": [
       "<html><script type=\"math/tex; mode=display\">\\newcommand{\\Bold}[1]{\\mathbf{#1}}d^{\\prime} =  40.0</script></html>"
      ],
      "text/latex": [
       "\\begin{math}\n",
       "\\newcommand{\\Bold}[1]{\\mathbf{#1}}d^{\\prime} =  40.0\n",
       "\\end{math}"
      ],
      "text/plain": [
       "d^{\\prime} =  40.0"
      ]
     },
     "metadata": {},
     "output_type": "display_data"
    },
    {
     "data": {
      "text/html": [
       "<html><script type=\"math/tex; mode=display\">\\newcommand{\\Bold}[1]{\\mathbf{#1}}\\delta^{\\prime} =  0.11111</script></html>"
      ],
      "text/latex": [
       "\\begin{math}\n",
       "\\newcommand{\\Bold}[1]{\\mathbf{#1}}\\delta^{\\prime} =  0.11111\n",
       "\\end{math}"
      ],
      "text/plain": [
       "\\delta^{\\prime} =  0.11111"
      ]
     },
     "metadata": {},
     "output_type": "display_data"
    },
    {
     "data": {
      "text/html": [
       "<html><script type=\"math/tex; mode=display\">\\newcommand{\\Bold}[1]{\\mathbf{#1}}\\beta =  0.50020</script></html>"
      ],
      "text/latex": [
       "\\begin{math}\n",
       "\\newcommand{\\Bold}[1]{\\mathbf{#1}}\\beta =  0.50020\n",
       "\\end{math}"
      ],
      "text/plain": [
       "\\beta =  0.50020"
      ]
     },
     "metadata": {},
     "output_type": "display_data"
    },
    {
     "data": {
      "text/html": [
       "<html><script type=\"math/tex; mode=display\">\\newcommand{\\Bold}[1]{\\mathbf{#1}}h =  400.</script></html>"
      ],
      "text/latex": [
       "\\begin{math}\n",
       "\\newcommand{\\Bold}[1]{\\mathbf{#1}}h =  400.\n",
       "\\end{math}"
      ],
      "text/plain": [
       "h =  400."
      ]
     },
     "metadata": {},
     "output_type": "display_data"
    }
   ],
   "source": [
    "pp(r\"d\",d,3)\n",
    "\n",
    "pp(r\"d^{\\prime\\prime}\",d2,3)\n",
    "pp(r\"\\delta^{\\prime\\prime}\",d2/d)\n",
    "\n",
    "d1 = 40\n",
    "pp(r\"d^{\\prime}\",d2,3)\n",
    "pp(r\"\\delta^{\\prime}\",d1/d)\n",
    "\n",
    "pp(r\"\\beta\",As1/As)\n",
    "\n",
    "pp(r\"h\",d+d1,3)"
   ]
  },
  {
   "cell_type": "markdown",
   "metadata": {},
   "source": [
    "## Verifica massimi e mini d'armatura -- C < C50/60"
   ]
  },
  {
   "cell_type": "code",
   "execution_count": 11,
   "metadata": {},
   "outputs": [
    {
     "data": {
      "text/html": [
       "<html><script type=\"math/tex; mode=display\">\\newcommand{\\Bold}[1]{\\mathbf{#1}}A_{s,min} =  271.11</script></html>"
      ],
      "text/latex": [
       "\\begin{math}\n",
       "\\newcommand{\\Bold}[1]{\\mathbf{#1}}A_{s,min} =  271.11\n",
       "\\end{math}"
      ],
      "text/plain": [
       "A_{s,min} =  271.11"
      ]
     },
     "metadata": {},
     "output_type": "display_data"
    },
    {
     "data": {
      "text/html": [
       "<html><script type=\"math/tex; mode=display\">\\newcommand{\\Bold}[1]{\\mathbf{#1}}A_{s,max} =  7200.0</script></html>"
      ],
      "text/latex": [
       "\\begin{math}\n",
       "\\newcommand{\\Bold}[1]{\\mathbf{#1}}A_{s,max} =  7200.0\n",
       "\\end{math}"
      ],
      "text/plain": [
       "A_{s,max} =  7200.0"
      ]
     },
     "metadata": {},
     "output_type": "display_data"
    },
    {
     "data": {
      "text/html": [
       "<html><script type=\"math/tex; mode=display\">\\newcommand{\\Bold}[1]{\\mathbf{#1}}\\mathrm{True}</script></html>"
      ],
      "text/latex": [
       "\\begin{math}\n",
       "\\newcommand{\\Bold}[1]{\\mathbf{#1}}\\mathrm{True}\n",
       "\\end{math}"
      ],
      "text/plain": [
       "True"
      ]
     },
     "metadata": {},
     "output_type": "display_data"
    },
    {
     "data": {
      "text/html": [
       "<html><script type=\"math/tex; mode=display\">\\newcommand{\\Bold}[1]{\\mathbf{#1}}\\mathrm{True}</script></html>"
      ],
      "text/latex": [
       "\\begin{math}\n",
       "\\newcommand{\\Bold}[1]{\\mathbf{#1}}\\mathrm{True}\n",
       "\\end{math}"
      ],
      "text/plain": [
       "True"
      ]
     },
     "metadata": {},
     "output_type": "display_data"
    },
    {
     "data": {
      "text/html": [
       "<html><script type=\"math/tex; mode=display\">\\newcommand{\\Bold}[1]{\\mathbf{#1}}\\mathrm{True}</script></html>"
      ],
      "text/latex": [
       "\\begin{math}\n",
       "\\newcommand{\\Bold}[1]{\\mathbf{#1}}\\mathrm{True}\n",
       "\\end{math}"
      ],
      "text/plain": [
       "True"
      ]
     },
     "metadata": {},
     "output_type": "display_data"
    },
    {
     "data": {
      "text/html": [
       "<html><script type=\"math/tex; mode=display\">\\newcommand{\\Bold}[1]{\\mathbf{#1}}\\mathrm{True}</script></html>"
      ],
      "text/latex": [
       "\\begin{math}\n",
       "\\newcommand{\\Bold}[1]{\\mathbf{#1}}\\mathrm{True}\n",
       "\\end{math}"
      ],
      "text/plain": [
       "True"
      ]
     },
     "metadata": {},
     "output_type": "display_data"
    }
   ],
   "source": [
    "fck = 30\n",
    "fyk = 450\n",
    "\n",
    "# --- \n",
    "\n",
    "fctm = 0.3 * fck ** (2/3) # solo C < C50/60\n",
    "As_min = max(0.26*fctm/fyk *b*d,0.0013*b*d) \n",
    "pp(r\"A_{s,min}\",As_min)\n",
    "\n",
    "As_max = 0.04 * b * (d+d1)\n",
    "pp(r\"A_{s,max}\",As_max)\n",
    "\n",
    "show(As > As_min.n())\n",
    "show(As < As_max.n())\n",
    "\n",
    "show(As1 > As_min.n())\n",
    "show(As1 < As_max.n())"
   ]
  },
  {
   "cell_type": "code",
   "execution_count": null,
   "metadata": {},
   "outputs": [],
   "source": []
  }
 ],
 "metadata": {
  "kernelspec": {
   "display_name": "SageMath 9.2",
   "language": "sage",
   "name": "sagemath"
  },
  "language_info": {
   "codemirror_mode": {
    "name": "ipython",
    "version": 3
   },
   "file_extension": ".py",
   "mimetype": "text/x-python",
   "name": "python",
   "nbconvert_exporter": "python",
   "pygments_lexer": "ipython3",
   "version": "3.7.7"
  }
 },
 "nbformat": 4,
 "nbformat_minor": 4
}
