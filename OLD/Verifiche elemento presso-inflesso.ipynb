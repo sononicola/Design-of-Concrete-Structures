{
 "cells": [
  {
   "cell_type": "code",
   "execution_count": 184,
   "metadata": {},
   "outputs": [],
   "source": [
    "# custom printing\n",
    "def pp(name, var, n = 5):\n",
    "    return show(LatexExpr(name + \" = \"), var.n(digits = n))"
   ]
  },
  {
   "cell_type": "markdown",
   "metadata": {},
   "source": [
    "#### Progetto -- incognite $A_s$ e $A_s^\\prime$"
   ]
  },
  {
   "cell_type": "markdown",
   "metadata": {},
   "source": [
    "#### Progetto -- incognite $b$ e $A_s$"
   ]
  },
  {
   "cell_type": "markdown",
   "metadata": {},
   "source": [
    "#### Progetto -- incognite $d$ e $A_s$ -- conosco b e $A_s^\\prime = \\beta A_s$"
   ]
  },
  {
   "cell_type": "code",
   "execution_count": 224,
   "metadata": {},
   "outputs": [
    {
     "data": {
      "text/plain": [
       "7/15"
      ]
     },
     "execution_count": 224,
     "metadata": {},
     "output_type": "execute_result"
    }
   ],
   "source": [
    "sigmacr = 21\n",
    "sigmasr = 360\n",
    "sigmasr1 = 360\n",
    "n = 15\n",
    "M = 450000000 # Nmm\n",
    "N = 200000 # N\n",
    "b = 500 # mm\n",
    "d1 = 45 #mm\n",
    "d2 = 45 # mm\n",
    "beta = .2   # beta = As'/ As\n",
    "# ---\n",
    "s = n * sigmacr / (n*sigmacr + sigmasr)\n",
    "s"
   ]
  },
  {
   "cell_type": "code",
   "execution_count": 223,
   "metadata": {},
   "outputs": [
    {
     "data": {
      "text/plain": [
       "13500"
      ]
     },
     "execution_count": 223,
     "metadata": {},
     "output_type": "execute_result"
    }
   ],
   "source": [
    "# eccentricità h > 6 M/N grande o piccola ?\n",
    "6 * M/N #mm"
   ]
  },
  {
   "cell_type": "code",
   "execution_count": 215,
   "metadata": {},
   "outputs": [
    {
     "data": {
      "text/html": [
       "<html><script type=\"math/tex; mode=display\">\\newcommand{\\Bold}[1]{\\mathbf{#1}}\\left[\\left[\\mathit{As} = 2957.765957446808, d = 456.2605633802817\\right], \\left[\\mathit{As} = \\left(-3925.709677419355\\right), d = \\left(-367.7931034482759\\right)\\right], \\left[\\mathit{As} = \\left(-19208.65517241379\\right), d = \\left(-21.40152091254753\\right)\\right], \\left[\\mathit{As} = 0, d = 0\\right]\\right]</script></html>"
      ],
      "text/latex": [
       "\\begin{math}\n",
       "\\newcommand{\\Bold}[1]{\\mathbf{#1}}\\left[\\left[\\mathit{As} = 2957.765957446808, d = 456.2605633802817\\right], \\left[\\mathit{As} = \\left(-3925.709677419355\\right), d = \\left(-367.7931034482759\\right)\\right], \\left[\\mathit{As} = \\left(-19208.65517241379\\right), d = \\left(-21.40152091254753\\right)\\right], \\left[\\mathit{As} = 0, d = 0\\right]\\right]\n",
       "\\end{math}"
      ],
      "text/plain": [
       "[[As == 2957.765957446808, d == 456.2605633802817], [As == -3925.709677419355, d == -367.7931034482759], [As == -19208.65517241379, d == -21.40152091254753], [As == 0, d == 0]]"
      ]
     },
     "metadata": {},
     "output_type": "display_data"
    }
   ],
   "source": [
    "var('d, As')\n",
    "eq1 = 1/2*sigmacr*b*s*d*(M/N-(d+d1)/2+s*d/3) + beta*As*n*sigmacr/(s*d)*(s*d-d2)*(M/N-(d+d1)/2 + d2) - sigmasr*As*(M/N-(d+d1)/2 + d)\n",
    "eq2 = 1/2*sigmacr*b*s*d + n*sigmacr/(s*d)*(s*d-d2)*beta*As - sigmasr*As - N\n",
    "sol=solve([eq1==0,eq2==0],As,d)\n",
    "show(sol)"
   ]
  },
  {
   "cell_type": "code",
   "execution_count": 211,
   "metadata": {},
   "outputs": [
    {
     "data": {
      "text/plain": [
       "2957.765957446808"
      ]
     },
     "execution_count": 211,
     "metadata": {},
     "output_type": "execute_result"
    }
   ],
   "source": [
    "sol[0][0].rhs()"
   ]
  },
  {
   "cell_type": "code",
   "execution_count": 225,
   "metadata": {},
   "outputs": [
    {
     "data": {
      "text/plain": [
       "591.5531914893617"
      ]
     },
     "execution_count": 225,
     "metadata": {},
     "output_type": "execute_result"
    }
   ],
   "source": [
    "sol[0][0].rhs() * beta"
   ]
  },
  {
   "cell_type": "code",
   "execution_count": 212,
   "metadata": {},
   "outputs": [
    {
     "data": {
      "text/plain": [
       "456.2605633802817"
      ]
     },
     "execution_count": 212,
     "metadata": {},
     "output_type": "execute_result"
    }
   ],
   "source": [
    "sol[0][1].rhs()"
   ]
  },
  {
   "cell_type": "markdown",
   "metadata": {},
   "source": [
    "### Verifica "
   ]
  },
  {
   "cell_type": "code",
   "execution_count": 260,
   "metadata": {},
   "outputs": [
    {
     "data": {
      "text/html": [
       "<html><script type=\"math/tex; mode=display\">\\newcommand{\\Bold}[1]{\\mathbf{#1}}d^\\prime =  63.000</script></html>"
      ],
      "text/latex": [
       "\\begin{math}\n",
       "\\newcommand{\\Bold}[1]{\\mathbf{#1}}d^\\prime =  63.000\n",
       "\\end{math}"
      ],
      "text/plain": [
       "d^\\prime =  63.000"
      ]
     },
     "metadata": {},
     "output_type": "display_data"
    },
    {
     "data": {
      "text/html": [
       "<html><script type=\"math/tex; mode=display\">\\newcommand{\\Bold}[1]{\\mathbf{#1}}h =  600.00</script></html>"
      ],
      "text/latex": [
       "\\begin{math}\n",
       "\\newcommand{\\Bold}[1]{\\mathbf{#1}}h =  600.00\n",
       "\\end{math}"
      ],
      "text/plain": [
       "h =  600.00"
      ]
     },
     "metadata": {},
     "output_type": "display_data"
    },
    {
     "data": {
      "text/html": [
       "<html><script type=\"math/tex; mode=display\">\\newcommand{\\Bold}[1]{\\mathbf{#1}}d_0 =  1950.0</script></html>"
      ],
      "text/latex": [
       "\\begin{math}\n",
       "\\newcommand{\\Bold}[1]{\\mathbf{#1}}d_0 =  1950.0\n",
       "\\end{math}"
      ],
      "text/plain": [
       "d_0 =  1950.0"
      ]
     },
     "metadata": {},
     "output_type": "display_data"
    }
   ],
   "source": [
    "# verificare che le barre ci stiano nella base\n",
    "d = 487+50\n",
    "As = 1527*2 # 6 e 6 phi 18 # controllare le d\n",
    "As1 = 763 # 3 phi 18\n",
    "\n",
    "# nuova d' se due file: i/2 + dbarre + dstaffe + copriferro\n",
    "d1 = 30/2 + 18 + 10 + 20\n",
    "pp(r\"d^\\prime\",d1)\n",
    "\n",
    "# d = 537\n",
    "\n",
    "h = d + d1\n",
    "pp(r\"h\",h)\n",
    "\n",
    "\n",
    "\n",
    "d0 = M/N - h/2\n",
    "pp(r\"d_0\",d0)\n",
    "\n"
   ]
  },
  {
   "cell_type": "code",
   "execution_count": 266,
   "metadata": {},
   "outputs": [
    {
     "data": {
      "text/html": [
       "<html><script type=\"math/tex; mode=display\">\\newcommand{\\Bold}[1]{\\mathbf{#1}}-561.6569 + 0.0001983643i</script></html>"
      ],
      "text/latex": [
       "\\begin{math}\n",
       "\\newcommand{\\Bold}[1]{\\mathbf{#1}}-561.6569 + 0.0001983643i\n",
       "\\end{math}"
      ],
      "text/plain": [
       "-561.6569 + 0.0001983643*I"
      ]
     },
     "metadata": {},
     "output_type": "display_data"
    },
    {
     "data": {
      "text/html": [
       "<html><script type=\"math/tex; mode=display\">\\newcommand{\\Bold}[1]{\\mathbf{#1}}-5528.739 - 0.00002288818i</script></html>"
      ],
      "text/latex": [
       "\\begin{math}\n",
       "\\newcommand{\\Bold}[1]{\\mathbf{#1}}-5528.739 - 0.00002288818i\n",
       "\\end{math}"
      ],
      "text/plain": [
       "-5528.739 - 0.00002288818*I"
      ]
     },
     "metadata": {},
     "output_type": "display_data"
    },
    {
     "data": {
      "text/html": [
       "<html><script type=\"math/tex; mode=display\">\\newcommand{\\Bold}[1]{\\mathbf{#1}}240.3961 - 0.0001678467i</script></html>"
      ],
      "text/latex": [
       "\\begin{math}\n",
       "\\newcommand{\\Bold}[1]{\\mathbf{#1}}240.3961 - 0.0001678467i\n",
       "\\end{math}"
      ],
      "text/plain": [
       "240.3961 - 0.0001678467*I"
      ]
     },
     "metadata": {},
     "output_type": "display_data"
    }
   ],
   "source": [
    "# Calcolo asse neutro\n",
    "var('x')\n",
    "eq = 1/6*b*x**3 + 1/2*b*d0*x**2 + (n*As1*(d0+d2) + n*As*(d0+d))*x - n*As1*d2*(d0+d2) - n*As*d*(d0+d)\n",
    "xx = solve(eq==0,x)\n",
    "show(xx[0].rhs().n(digits=7))\n",
    "show(xx[1].rhs().n(digits=7))\n",
    "show(xx[2].rhs().n(digits=7))"
   ]
  },
  {
   "cell_type": "code",
   "execution_count": 267,
   "metadata": {},
   "outputs": [
    {
     "data": {
      "text/plain": [
       "240.3961332"
      ]
     },
     "execution_count": 267,
     "metadata": {},
     "output_type": "execute_result"
    }
   ],
   "source": [
    "# scegliere la soluzione di xx reale e compresa tra 0 e d\n",
    "x = xx[2].rhs().n(digits=10).real()\n",
    "x "
   ]
  },
  {
   "cell_type": "code",
   "execution_count": 249,
   "metadata": {},
   "outputs": [
    {
     "data": {
      "text/plain": [
       "(223.49359032027195,\n",
       "       converged: True\n",
       "            flag: 'converged'\n",
       "  function_calls: 9\n",
       "      iterations: 8\n",
       "            root: 223.49359032027195)"
      ]
     },
     "execution_count": 249,
     "metadata": {},
     "output_type": "execute_result"
    }
   ],
   "source": [
    "find_root(eq,0,d,full_output=True)"
   ]
  },
  {
   "cell_type": "code",
   "execution_count": 268,
   "metadata": {},
   "outputs": [
    {
     "data": {
      "text/html": [
       "<html><script type=\"math/tex; mode=display\">\\newcommand{\\Bold}[1]{\\mathbf{#1}}\\sigma_c =  15.527</script></html>"
      ],
      "text/latex": [
       "\\begin{math}\n",
       "\\newcommand{\\Bold}[1]{\\mathbf{#1}}\\sigma_c =  15.527\n",
       "\\end{math}"
      ],
      "text/plain": [
       "\\sigma_c =  15.527"
      ]
     },
     "metadata": {},
     "output_type": "display_data"
    },
    {
     "data": {
      "text/html": [
       "<html><script type=\"math/tex; mode=display\">\\newcommand{\\Bold}[1]{\\mathbf{#1}}\\sigma_c^R =  21.000</script></html>"
      ],
      "text/latex": [
       "\\begin{math}\n",
       "\\newcommand{\\Bold}[1]{\\mathbf{#1}}\\sigma_c^R =  21.000\n",
       "\\end{math}"
      ],
      "text/plain": [
       "\\sigma_c^R =  21.000"
      ]
     },
     "metadata": {},
     "output_type": "display_data"
    },
    {
     "data": {
      "text/html": [
       "<html><script type=\"math/tex; mode=display\">\\newcommand{\\Bold}[1]{\\mathbf{#1}}\\mathrm{True}</script></html>"
      ],
      "text/latex": [
       "\\begin{math}\n",
       "\\newcommand{\\Bold}[1]{\\mathbf{#1}}\\mathrm{True}\n",
       "\\end{math}"
      ],
      "text/plain": [
       "True"
      ]
     },
     "metadata": {},
     "output_type": "display_data"
    },
    {
     "data": {
      "text/html": [
       "<html><script type=\"math/tex; mode=display\">\\newcommand{\\Bold}[1]{\\mathbf{#1}}\\sigma_s =  287.36</script></html>"
      ],
      "text/latex": [
       "\\begin{math}\n",
       "\\newcommand{\\Bold}[1]{\\mathbf{#1}}\\sigma_s =  287.36\n",
       "\\end{math}"
      ],
      "text/plain": [
       "\\sigma_s =  287.36"
      ]
     },
     "metadata": {},
     "output_type": "display_data"
    },
    {
     "data": {
      "text/html": [
       "<html><script type=\"math/tex; mode=display\">\\newcommand{\\Bold}[1]{\\mathbf{#1}}\\sigma_s^R =  360.00</script></html>"
      ],
      "text/latex": [
       "\\begin{math}\n",
       "\\newcommand{\\Bold}[1]{\\mathbf{#1}}\\sigma_s^R =  360.00\n",
       "\\end{math}"
      ],
      "text/plain": [
       "\\sigma_s^R =  360.00"
      ]
     },
     "metadata": {},
     "output_type": "display_data"
    },
    {
     "data": {
      "text/html": [
       "<html><script type=\"math/tex; mode=display\">\\newcommand{\\Bold}[1]{\\mathbf{#1}}\\mathrm{True}</script></html>"
      ],
      "text/latex": [
       "\\begin{math}\n",
       "\\newcommand{\\Bold}[1]{\\mathbf{#1}}\\mathrm{True}\n",
       "\\end{math}"
      ],
      "text/plain": [
       "True"
      ]
     },
     "metadata": {},
     "output_type": "display_data"
    },
    {
     "data": {
      "text/html": [
       "<html><script type=\"math/tex; mode=display\">\\newcommand{\\Bold}[1]{\\mathbf{#1}}\\sigma_s^\\prime =  189.31</script></html>"
      ],
      "text/latex": [
       "\\begin{math}\n",
       "\\newcommand{\\Bold}[1]{\\mathbf{#1}}\\sigma_s^\\prime =  189.31\n",
       "\\end{math}"
      ],
      "text/plain": [
       "\\sigma_s^\\prime =  189.31"
      ]
     },
     "metadata": {},
     "output_type": "display_data"
    },
    {
     "data": {
      "text/html": [
       "<html><script type=\"math/tex; mode=display\">\\newcommand{\\Bold}[1]{\\mathbf{#1}}\\sigma_s^R =  360.00</script></html>"
      ],
      "text/latex": [
       "\\begin{math}\n",
       "\\newcommand{\\Bold}[1]{\\mathbf{#1}}\\sigma_s^R =  360.00\n",
       "\\end{math}"
      ],
      "text/plain": [
       "\\sigma_s^R =  360.00"
      ]
     },
     "metadata": {},
     "output_type": "display_data"
    },
    {
     "data": {
      "text/html": [
       "<html><script type=\"math/tex; mode=display\">\\newcommand{\\Bold}[1]{\\mathbf{#1}}\\mathrm{True}</script></html>"
      ],
      "text/latex": [
       "\\begin{math}\n",
       "\\newcommand{\\Bold}[1]{\\mathbf{#1}}\\mathrm{True}\n",
       "\\end{math}"
      ],
      "text/plain": [
       "True"
      ]
     },
     "metadata": {},
     "output_type": "display_data"
    }
   ],
   "source": [
    "sigmac = N*x / (  1/2 *b *x**2 + n*As1*(x-d2) - n*As*(d-x)  )\n",
    "pp(r\"\\sigma_c\",sigmac)\n",
    "pp(r\"\\sigma_c^R\",sigmacr)\n",
    "show(sigmac < sigmacr)\n",
    "\n",
    "sigmas = n * sigmac/x * (d-x)\n",
    "pp(r\"\\sigma_s\",sigmas)\n",
    "pp(r\"\\sigma_s^R\",sigmasr)\n",
    "show(sigmas < sigmasr)\n",
    "\n",
    "sigmas1 = n * sigmac/x * (x-d2)\n",
    "pp(r\"\\sigma_s^\\prime\",sigmas1)\n",
    "pp(r\"\\sigma_s^R\",sigmasr1)\n",
    "show(sigmas1 < sigmasr1)"
   ]
  },
  {
   "cell_type": "code",
   "execution_count": 262,
   "metadata": {},
   "outputs": [
    {
     "data": {
      "text/plain": [
       "600"
      ]
     },
     "execution_count": 262,
     "metadata": {},
     "output_type": "execute_result"
    }
   ],
   "source": [
    "h = d + d1\n",
    "h"
   ]
  },
  {
   "cell_type": "code",
   "execution_count": 269,
   "metadata": {},
   "outputs": [
    {
     "data": {
      "text/html": [
       "<html><script type=\"math/tex; mode=display\">\\newcommand{\\Bold}[1]{\\mathbf{#1}}A_{s,min} =  497.97</script></html>"
      ],
      "text/latex": [
       "\\begin{math}\n",
       "\\newcommand{\\Bold}[1]{\\mathbf{#1}}A_{s,min} =  497.97\n",
       "\\end{math}"
      ],
      "text/plain": [
       "A_{s,min} =  497.97"
      ]
     },
     "metadata": {},
     "output_type": "display_data"
    },
    {
     "data": {
      "text/html": [
       "<html><script type=\"math/tex; mode=display\">\\newcommand{\\Bold}[1]{\\mathbf{#1}}A_{s,max} =  12000.</script></html>"
      ],
      "text/latex": [
       "\\begin{math}\n",
       "\\newcommand{\\Bold}[1]{\\mathbf{#1}}A_{s,max} =  12000.\n",
       "\\end{math}"
      ],
      "text/plain": [
       "A_{s,max} =  12000."
      ]
     },
     "metadata": {},
     "output_type": "display_data"
    },
    {
     "data": {
      "text/html": [
       "<html><script type=\"math/tex; mode=display\">\\newcommand{\\Bold}[1]{\\mathbf{#1}}\\mathrm{True}</script></html>"
      ],
      "text/latex": [
       "\\begin{math}\n",
       "\\newcommand{\\Bold}[1]{\\mathbf{#1}}\\mathrm{True}\n",
       "\\end{math}"
      ],
      "text/plain": [
       "True"
      ]
     },
     "metadata": {},
     "output_type": "display_data"
    },
    {
     "data": {
      "text/html": [
       "<html><script type=\"math/tex; mode=display\">\\newcommand{\\Bold}[1]{\\mathbf{#1}}\\mathrm{True}</script></html>"
      ],
      "text/latex": [
       "\\begin{math}\n",
       "\\newcommand{\\Bold}[1]{\\mathbf{#1}}\\mathrm{True}\n",
       "\\end{math}"
      ],
      "text/plain": [
       "True"
      ]
     },
     "metadata": {},
     "output_type": "display_data"
    },
    {
     "data": {
      "text/html": [
       "<html><script type=\"math/tex; mode=display\">\\newcommand{\\Bold}[1]{\\mathbf{#1}}\\mathrm{True}</script></html>"
      ],
      "text/latex": [
       "\\begin{math}\n",
       "\\newcommand{\\Bold}[1]{\\mathbf{#1}}\\mathrm{True}\n",
       "\\end{math}"
      ],
      "text/plain": [
       "True"
      ]
     },
     "metadata": {},
     "output_type": "display_data"
    },
    {
     "data": {
      "text/html": [
       "<html><script type=\"math/tex; mode=display\">\\newcommand{\\Bold}[1]{\\mathbf{#1}}\\mathrm{True}</script></html>"
      ],
      "text/latex": [
       "\\begin{math}\n",
       "\\newcommand{\\Bold}[1]{\\mathbf{#1}}\\mathrm{True}\n",
       "\\end{math}"
      ],
      "text/plain": [
       "True"
      ]
     },
     "metadata": {},
     "output_type": "display_data"
    }
   ],
   "source": [
    "fck = 35\n",
    "fyk = 450\n",
    "\n",
    "# --- \n",
    "\n",
    "fctm = 0.3 * fck ** (2/3) # solo C < C50/60\n",
    "As_min = max(0.26*fctm/fyk *b*d,0.0013*b*d) \n",
    "pp(r\"A_{s,min}\",As_min)\n",
    "\n",
    "As_max = 0.04 * b * (d+d1)\n",
    "pp(r\"A_{s,max}\",As_max)\n",
    "\n",
    "show(As > As_min.n())\n",
    "show(As < As_max.n())\n",
    "\n",
    "show(As1 > As_min.n())\n",
    "show(As1 < As_max.n())"
   ]
  },
  {
   "cell_type": "code",
   "execution_count": 271,
   "metadata": {},
   "outputs": [
    {
     "data": {
      "text/plain": [
       "3.20996244169524"
      ]
     },
     "execution_count": 271,
     "metadata": {},
     "output_type": "execute_result"
    }
   ],
   "source": [
    "fctm.n()"
   ]
  },
  {
   "cell_type": "code",
   "execution_count": 272,
   "metadata": {},
   "outputs": [
    {
     "data": {
      "text/plain": [
       "14.1666666666667"
      ]
     },
     "execution_count": 272,
     "metadata": {},
     "output_type": "execute_result"
    }
   ],
   "source": [
    "0.85*25/1.5"
   ]
  },
  {
   "cell_type": "code",
   "execution_count": null,
   "metadata": {},
   "outputs": [],
   "source": []
  }
 ],
 "metadata": {
  "kernelspec": {
   "display_name": "SageMath 9.2",
   "language": "sage",
   "name": "sagemath"
  },
  "language_info": {
   "codemirror_mode": {
    "name": "ipython",
    "version": 3
   },
   "file_extension": ".py",
   "mimetype": "text/x-python",
   "name": "python",
   "nbconvert_exporter": "python",
   "pygments_lexer": "ipython3",
   "version": "3.7.7"
  }
 },
 "nbformat": 4,
 "nbformat_minor": 4
}
