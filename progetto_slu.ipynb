{
 "cells": [
  {
   "cell_type": "code",
   "execution_count": 8,
   "metadata": {},
   "outputs": [],
   "source": [
    "import sympy as sp\n",
    "from reinforced_concrete.sections import create_concrete_material, create_steel_material"
   ]
  },
  {
   "cell_type": "code",
   "execution_count": 9,
   "metadata": {},
   "outputs": [
    {
     "name": "stdout",
     "output_type": "stream",
     "text": [
      "xi_23 = 0.25925925925925924\n"
     ]
    }
   ],
   "source": [
    "cls  = create_concrete_material(\"EC2\",\"C25/30\") \n",
    "steel  = create_steel_material(\"NTC18\",\"B450C\")\n",
    "\n",
    "xi_23 = cls.ecu2 / (cls.ecu2 + steel.esu)\n",
    "psi = 17/21 \n",
    "lamb = 99/238 #lambda\n",
    "print(f\"{xi_23 = }\")"
   ]
  },
  {
   "cell_type": "code",
   "execution_count": 10,
   "metadata": {},
   "outputs": [],
   "source": [
    "def eq_m_prog(b, sigma_c, sigma_s1, xi, d, psi ,lamb, As1, d2):\n",
    "    return b * psi * xi*d * sigma_c * (d - lamb*xi*d)  + sigma_s1*As1* (d - d2) \n",
    "def eq_n_prog(b, sigma_c, sigma_s, sigma_s1, xi, d, psi, As, As1):\n",
    "    return b * psi * xi*d * sigma_c + sigma_s1*As1 - As*sigma_s"
   ]
  },
  {
   "cell_type": "code",
   "execution_count": 11,
   "metadata": {},
   "outputs": [],
   "source": [
    "#TODO usare la formula che utilizza anche Ned"
   ]
  },
  {
   "cell_type": "markdown",
   "metadata": {},
   "source": [
    "# Fisso b e $\\beta$"
   ]
  },
  {
   "cell_type": "code",
   "execution_count": 12,
   "metadata": {},
   "outputs": [],
   "source": [
    "Med = 236.63 * 10**6\n",
    "#Ned = 0 *10**3\n",
    "b = 300\n",
    "d1 = 40 \n",
    "d2 = 40 \n",
    "beta = .3"
   ]
  },
  {
   "cell_type": "code",
   "execution_count": 13,
   "metadata": {},
   "outputs": [
    {
     "name": "stdout",
     "output_type": "stream",
     "text": [
      "As = 1480.76 mm2 \n",
      "As1 = 444.23 mm2 \n",
      " d = 454.71 mm\n",
      "\n",
      "\n",
      "14Ø12 = 1582.56 mm2\n",
      "10Ø14 = 1538.60 mm2\n",
      " 8Ø16 = 1607.68 mm2\n",
      " 6Ø18 = 1526.04 mm2\n",
      " 5Ø20 = 1570.00 mm2\n",
      " 4Ø22 = 1519.76 mm2\n"
     ]
    }
   ],
   "source": [
    "As, d = sp.symbols('As, d', positive=True)\n",
    "eq_m23 = eq_m_prog(\n",
    "                        b=b, \n",
    "                        sigma_c=cls.fcd, \n",
    "                        sigma_s1=steel.fyd, \n",
    "                        xi=xi_23, d=d, \n",
    "                        psi=psi,\n",
    "                        lamb=lamb, \n",
    "                        As1=beta*As, \n",
    "                        d2=d2\n",
    "                    )\n",
    "eq_n23 = eq_n_prog(\n",
    "                        b=b, \n",
    "                        sigma_c=cls.fcd, \n",
    "                        sigma_s=steel.fyd,\n",
    "                        sigma_s1=steel.fyd, \n",
    "                        xi=xi_23, \n",
    "                        d=d, \n",
    "                        psi=psi, \n",
    "                        As=As, \n",
    "                        As1=beta*As\n",
    "                    )\n",
    "sol_23_prog = sp.solve((eq_m23 - Med, eq_n23), As, d, dict=True)[0]\n",
    "print(f\"As = {sol_23_prog[As]:.2f} mm2 \\nAs1 = {sol_23_prog[As]*beta:.2f} mm2 \\n d = {sol_23_prog[d]:.2f} mm\\n\\n\")\n",
    "\n",
    "area = sol_23_prog[As]\n",
    "for diam in [12,14,16,18,20,22]:\n",
    "    n = 1 + int(area/(3.14 * diam**2 / 4))\n",
    "    print(f\"{n:>2}Ø{diam} = {n * 3.14 * diam**2 / 4:.2f} mm2\")"
   ]
  },
  {
   "cell_type": "markdown",
   "metadata": {},
   "source": [
    "# Fisso d e $\\beta$"
   ]
  },
  {
   "cell_type": "code",
   "execution_count": 14,
   "metadata": {},
   "outputs": [],
   "source": [
    "Med =  331.729 * 10**6\n",
    "#Ned = 0 *10**3\n",
    "d = 210\n",
    "d1 = 40 \n",
    "d2 = 40 \n",
    "beta = .8"
   ]
  },
  {
   "cell_type": "code",
   "execution_count": 15,
   "metadata": {},
   "outputs": [
    {
     "name": "stdout",
     "output_type": "stream",
     "text": [
      "As = 4887.01 mm2 \n",
      "As1 = 3909.61 mm2 \n",
      " b = 612.53 mm\n",
      "\n",
      "\n",
      "44Ø12 = 4973.76 mm2\n",
      "32Ø14 = 4923.52 mm2\n",
      "25Ø16 = 5024.00 mm2\n",
      "20Ø18 = 5086.80 mm2\n",
      "16Ø20 = 5024.00 mm2\n",
      "13Ø22 = 4939.22 mm2\n"
     ]
    }
   ],
   "source": [
    "As, b = sp.symbols('As, b', positive=True)\n",
    "eq_m23 = eq_m_prog(\n",
    "                        b=b, \n",
    "                        sigma_c=cls.fcd, \n",
    "                        sigma_s1=steel.fyd, \n",
    "                        xi=xi_23, d=d, \n",
    "                        psi=psi,\n",
    "                        lamb=lamb, \n",
    "                        As1=beta*As, \n",
    "                        d2=d2\n",
    "                    )\n",
    "eq_n23 = eq_n_prog(\n",
    "                        b=b, \n",
    "                        sigma_c=cls.fcd, \n",
    "                        sigma_s=steel.fyd,\n",
    "                        sigma_s1=steel.fyd, \n",
    "                        xi=xi_23, \n",
    "                        d=d, \n",
    "                        psi=psi, \n",
    "                        As=As, \n",
    "                        As1=beta*As\n",
    "                    )\n",
    "sol_23_prog = sp.solve((eq_m23 - Med, eq_n23), As, b, dict=True)[0]\n",
    "print(f\"As = {sol_23_prog[As]:.2f} mm2 \\nAs1 = {sol_23_prog[As]*beta:.2f} mm2 \\n b = {sol_23_prog[b]:.2f} mm\\n\\n\")\n",
    "\n",
    "area = sol_23_prog[As]\n",
    "for diam in [12,14,16,18,20,22]:\n",
    "    n = 1 + int(area/(3.14 * diam**2 / 4))\n",
    "    print(f\"{n:>2}Ø{diam} = {n * 3.14 * diam**2 / 4:.2f} mm2\")"
   ]
  }
 ],
 "metadata": {
  "interpreter": {
   "hash": "e9dfbbb36e3b3679682f891148ee1981976897dd5367a65a9c1bc658de856a84"
  },
  "kernelspec": {
   "display_name": "Python 3.9.7 ('st')",
   "language": "python",
   "name": "python3"
  },
  "language_info": {
   "codemirror_mode": {
    "name": "ipython",
    "version": 3
   },
   "file_extension": ".py",
   "mimetype": "text/x-python",
   "name": "python",
   "nbconvert_exporter": "python",
   "pygments_lexer": "ipython3",
   "version": "3.9.7"
  },
  "orig_nbformat": 4
 },
 "nbformat": 4,
 "nbformat_minor": 2
}
