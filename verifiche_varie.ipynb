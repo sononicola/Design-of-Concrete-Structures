{
 "cells": [
  {
   "cell_type": "code",
   "execution_count": 35,
   "metadata": {},
   "outputs": [],
   "source": [
    "from reinforced_concrete.sections import create_concrete_material, create_steel_material, Bars, ReinforcedConcreteSection, InternalForces"
   ]
  },
  {
   "cell_type": "code",
   "execution_count": 36,
   "metadata": {},
   "outputs": [
    {
     "name": "stdout",
     "output_type": "stream",
     "text": [
      "\n",
      "Section name: sec1\n",
      "   CLS = C30/37\n",
      "     B = 400 mm\n",
      "     H = 350 mm\n",
      "     d = 310 mm\n",
      "    d1 = 40 mm\n",
      "    d2 = 40 mm\n",
      "    As = 12Ø20 =  3768 mm2 | B450C\n",
      "   As1 =  4Ø10 =   314 mm2 | B450C\n",
      "   Med = 0.0 Nmm\n",
      "   Ned = 0.0 N\n",
      "   Ved = 0.0 N\n",
      "\n"
     ]
    }
   ],
   "source": [
    "cls  = create_concrete_material(\"EC2\",\"C30/37\") \n",
    "steel  = create_steel_material(\"NTC18\",\"B450C\")\n",
    "#steel.Es = 200_000\n",
    "As = Bars(n_bars=12, diameter=20, steel_material=steel)\n",
    "As1 = Bars(n_bars=4, diameter=10, steel_material=steel)\n",
    "no_forces = InternalForces()\n",
    "section = ReinforcedConcreteSection(b=400, d=310, d1=40, d2=40, concrete_material=cls, As=As, As1=As1, internal_forces=no_forces, name=\"sec1\")\n",
    "print(section)"
   ]
  },
  {
   "cell_type": "markdown",
   "metadata": {},
   "source": [
    "# 1. Area minima e massima"
   ]
  },
  {
   "cell_type": "code",
   "execution_count": 37,
   "metadata": {},
   "outputs": [
    {
     "name": "stdout",
     "output_type": "stream",
     "text": [
      "a_max = 5600.0 mm2 > As = 3768.0 | True\n",
      "a_max = 5600.0 mm2 > As1 = 314.0 | True\n",
      "max(a_min_1 = 207.48231111111113, a_min_2 = 161.2) < As | True\n"
     ]
    }
   ],
   "source": [
    "a_max = 0.04 * section.b * section.h\n",
    "a_min_1 = 0.26 * section.d * section.b * cls.fctm/steel.fyk\n",
    "a_min_2 = 0.0013 * section.d * section.b\n",
    "print(f\"{a_max = } mm2 > As = {As.area} | {a_max > As.area}\")\n",
    "print(f\"{a_max = } mm2 > As1 = {As1.area} | {a_max > As1.area}\")\n",
    "print(f\"max({a_min_1 = }, {a_min_2 = }) < As | {max(a_min_1, a_min_2)< As.area}\")"
   ]
  },
  {
   "cell_type": "markdown",
   "metadata": {},
   "source": [
    "# 2. Base minima < base sezione ?"
   ]
  },
  {
   "cell_type": "code",
   "execution_count": 38,
   "metadata": {},
   "outputs": [
    {
     "name": "stdout",
     "output_type": "stream",
     "text": [
      "b_min = 575 mm < b = 400 | False\n"
     ]
    }
   ],
   "source": [
    "copriferro = 20\n",
    "d_staffe = 10\n",
    "dist_barre = 25 # inerte\n",
    "n_barre = As.n_bars\n",
    "d_barre = As.diameter\n",
    "\n",
    "b_min = 2*copriferro + 2*d_staffe + n_barre*d_barre + (n_barre-1)*dist_barre\n",
    "print(f\"{b_min = } mm < b = {section.b} | {b_min < section.b}\")"
   ]
  },
  {
   "cell_type": "markdown",
   "metadata": {},
   "source": [
    "#### se 2 file: d1 -> scegliere d adatto per la nuova h"
   ]
  },
  {
   "cell_type": "code",
   "execution_count": 39,
   "metadata": {},
   "outputs": [
    {
     "data": {
      "text/plain": [
       "62.5"
      ]
     },
     "execution_count": 39,
     "metadata": {},
     "output_type": "execute_result"
    }
   ],
   "source": [
    "d1_nuovo = dist_barre/2 + d_barre + d_staffe + copriferro\n",
    "d1_nuovo"
   ]
  },
  {
   "cell_type": "markdown",
   "metadata": {},
   "source": [
    "# 3. Lunghezza di ancoraggio"
   ]
  },
  {
   "cell_type": "code",
   "execution_count": 40,
   "metadata": {},
   "outputs": [],
   "source": [
    "from handcalcs import render"
   ]
  },
  {
   "cell_type": "code",
   "execution_count": 41,
   "metadata": {},
   "outputs": [
    {
     "data": {
      "text/latex": [
       "\\[\n",
       "\\begin{aligned}\n",
       "d_{barre} &= 20 \\; \n",
       "\\\\[10pt]\n",
       "f_{ctd} &= 1.352 \\; \n",
       "\\\\[10pt]\n",
       "\\alpha_{1} &= 1 \\; \n",
       "\\\\[10pt]\n",
       "\\alpha_{2} &= 1 \\; \n",
       "\\\\[10pt]\n",
       "\\alpha_{3} &= 1 \\; \n",
       "\\\\[10pt]\n",
       "\\alpha_{4} &= 1 \\; \n",
       "\\\\[10pt]\n",
       "\\alpha_{5} &= 1 \\; \n",
       "\\\\[10pt]\n",
       "\\eta_{1} &= 1 \\; \n",
       "\\\\[10pt]\n",
       "\\eta_{2} &= 1 \\; \n",
       "\\\\[10pt]\n",
       "\\sigma_{d} &= 391.304 \\; \\;\\textrm{(hp di barre snervate)}\n",
       "\\end{aligned}\n",
       "\\]"
      ],
      "text/plain": [
       "<IPython.core.display.Latex object>"
      ]
     },
     "metadata": {},
     "output_type": "display_data"
    }
   ],
   "source": [
    "%%render\n",
    "d_barre = section.As.diameter\n",
    "f_ctd = section.concrete_material.fctd\n",
    "alpha_1 = 1\n",
    "alpha_2 = 1\n",
    "alpha_3 = 1\n",
    "alpha_4 = 1\n",
    "alpha_5 = 1\n",
    "eta_1 = 1\n",
    "eta_2 = 1\n",
    "sigma_d = steel.fyd # hp di barre snervate"
   ]
  },
  {
   "cell_type": "code",
   "execution_count": 46,
   "metadata": {},
   "outputs": [
    {
     "data": {
      "text/latex": [
       "\\[\n",
       "\\begin{aligned}\n",
       "f_{bd} &= 2.25 \\cdot \\eta_{1} \\cdot \\eta_{2} \\cdot f_{ctd}  = 2.25 \\cdot 1 \\cdot 1 \\cdot 1.352 &= 3.041  \n",
       "\\\\[10pt]\n",
       "l_{breq} &= d_{barre} \\cdot \\frac{ \\sigma_{d} }{ 4 \\cdot f_{bd} }  = 20 \\cdot \\frac{ 391.304 }{ 4 \\cdot 3.041 } &= 643.312  \n",
       "\\\\[10pt]\n",
       "l_{b} &= \\alpha_{1} \\cdot \\alpha_{2} \\cdot \\alpha_{3} \\cdot \\alpha_{4} \\cdot \\alpha_{5} \\cdot l_{breq}  = 1 \\cdot 1 \\cdot 1 \\cdot 1 \\cdot 1 \\cdot 643.312 &= 643.312  \n",
       "\\end{aligned}\n",
       "\\]"
      ],
      "text/plain": [
       "<IPython.core.display.Latex object>"
      ]
     },
     "metadata": {},
     "output_type": "display_data"
    }
   ],
   "source": [
    "%%render \n",
    "f_bd = 2.25*eta_1*eta_2*f_ctd\n",
    "l_breq = d_barre*sigma_d/(4*f_bd)\n",
    "l_b = alpha_1*alpha_2*alpha_3*alpha_4*alpha_5*l_breq"
   ]
  },
  {
   "cell_type": "code",
   "execution_count": null,
   "metadata": {},
   "outputs": [],
   "source": []
  }
 ],
 "metadata": {
  "interpreter": {
   "hash": "e9dfbbb36e3b3679682f891148ee1981976897dd5367a65a9c1bc658de856a84"
  },
  "kernelspec": {
   "display_name": "Python 3.9.7 ('st')",
   "language": "python",
   "name": "python3"
  },
  "language_info": {
   "codemirror_mode": {
    "name": "ipython",
    "version": 3
   },
   "file_extension": ".py",
   "mimetype": "text/x-python",
   "name": "python",
   "nbconvert_exporter": "python",
   "pygments_lexer": "ipython3",
   "version": "3.9.7"
  },
  "orig_nbformat": 4
 },
 "nbformat": 4,
 "nbformat_minor": 2
}
